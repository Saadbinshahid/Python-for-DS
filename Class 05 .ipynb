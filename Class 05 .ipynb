{
 "cells": [
  {
   "cell_type": "code",
   "execution_count": 1,
   "id": "d419e762-cb47-42ef-bf61-f6f34d5b06d1",
   "metadata": {},
   "outputs": [
    {
     "name": "stdout",
     "output_type": "stream",
     "text": [
      "['apple', ' mango', 'melon']\n"
     ]
    }
   ],
   "source": [
    "fruits = ['apple' , ' mango' , 'melon']\n",
    "print(fruits)\n"
   ]
  },
  {
   "cell_type": "code",
   "execution_count": 2,
   "id": "1e41c06b-2589-4c91-a638-41b63e288bb7",
   "metadata": {},
   "outputs": [
    {
     "name": "stdout",
     "output_type": "stream",
     "text": [
      "['kiwi', 'gava', 'grapes']\n",
      "['banana', 'blueberry', 'watermelon']\n"
     ]
    }
   ],
   "source": [
    "fruits_not = ['kiwi', 'gava', 'grapes']\n",
    "sometimes = ['banana' , 'blueberry' , 'watermelon']\n",
    "print(fruits_not)\n",
    "print(sometimes)"
   ]
  },
  {
   "cell_type": "code",
   "execution_count": 3,
   "id": "b36c2834-becb-4b9f-bc45-6f43e0fcb4ac",
   "metadata": {},
   "outputs": [],
   "source": [
    "fruits_not.append(fruits)\n"
   ]
  },
  {
   "cell_type": "code",
   "execution_count": 4,
   "id": "a6ee8392-c0ed-4d89-93e3-a694a7f0b6e6",
   "metadata": {},
   "outputs": [
    {
     "name": "stdout",
     "output_type": "stream",
     "text": [
      "['kiwi', 'gava', 'grapes', ['apple', ' mango', 'melon']]\n"
     ]
    }
   ],
   "source": [
    "print(fruits_not)"
   ]
  },
  {
   "cell_type": "code",
   "execution_count": 5,
   "id": "d30ec128-bffa-430c-bb95-27c2c212761b",
   "metadata": {},
   "outputs": [
    {
     "name": "stdout",
     "output_type": "stream",
     "text": [
      "[['banana', 'blueberry', 'watermelon'], 'kiwi', 'gava', 'grapes', ['apple', ' mango', 'melon']]\n"
     ]
    }
   ],
   "source": [
    "fruits_not.insert(0,sometimes)\n",
    "print(fruits_not)"
   ]
  },
  {
   "cell_type": "code",
   "execution_count": 6,
   "id": "bddac683-33d9-4faf-b6b2-4f9af47aaf66",
   "metadata": {},
   "outputs": [
    {
     "name": "stdout",
     "output_type": "stream",
     "text": [
      "[' mango', 'melon']\n"
     ]
    }
   ],
   "source": [
    "print(fruits_not[4][1:3])"
   ]
  },
  {
   "cell_type": "code",
   "execution_count": 7,
   "id": "329e334a-3dee-428a-9ba7-6e3443861b12",
   "metadata": {},
   "outputs": [
    {
     "name": "stdout",
     "output_type": "stream",
     "text": [
      "5\n"
     ]
    }
   ],
   "source": [
    "print(len(fruits_not))"
   ]
  },
  {
   "cell_type": "code",
   "execution_count": 8,
   "id": "e86bcbb3-27bd-49e3-8b10-5edea5ff7e9c",
   "metadata": {},
   "outputs": [
    {
     "name": "stdout",
     "output_type": "stream",
     "text": [
      "3\n"
     ]
    }
   ],
   "source": [
    "print(len(fruits_not[4]))"
   ]
  },
  {
   "cell_type": "code",
   "execution_count": 9,
   "id": "713a36f4-815c-4a0f-b0c9-c96eac10733c",
   "metadata": {},
   "outputs": [
    {
     "name": "stdout",
     "output_type": "stream",
     "text": [
      "0\n"
     ]
    }
   ],
   "source": [
    "print(fruits_not.count('mango'))"
   ]
  },
  {
   "cell_type": "code",
   "execution_count": 10,
   "id": "0e2016b7-515b-43d5-af95-4b1e219afaa5",
   "metadata": {},
   "outputs": [
    {
     "name": "stdout",
     "output_type": "stream",
     "text": [
      "[['banana', 'blueberry', 'watermelon'], 'kiwi', 'gava', 'grapes', ['apple', ' mango', 'melon']]\n"
     ]
    }
   ],
   "source": [
    "print(fruits_not)"
   ]
  },
  {
   "cell_type": "code",
   "execution_count": 11,
   "id": "c744c476-569a-4795-8eac-158abac70522",
   "metadata": {},
   "outputs": [
    {
     "name": "stdout",
     "output_type": "stream",
     "text": [
      "[['banana', 'blueberry', 'watermelon'], 'kiwi', 'grapes', ['apple', ' mango', 'melon']]\n"
     ]
    }
   ],
   "source": [
    "fruits_not.remove('gava')\n",
    "print(fruits_not)"
   ]
  },
  {
   "cell_type": "code",
   "execution_count": 12,
   "id": "3d6830ed-41ba-414e-93de-8a68e8dd2912",
   "metadata": {},
   "outputs": [
    {
     "name": "stdout",
     "output_type": "stream",
     "text": [
      "[['banana', 'blueberry', 'watermelon'], 'kiwi', 'grapes', ['apple', ' mango', 'melon']]\n"
     ]
    }
   ],
   "source": [
    "print(fruits_not)"
   ]
  },
  {
   "cell_type": "code",
   "execution_count": 13,
   "id": "7960d4f0-06c4-45fe-8bef-0c5dd8953668",
   "metadata": {},
   "outputs": [
    {
     "name": "stdout",
     "output_type": "stream",
     "text": [
      "[['blueberry', 'watermelon'], 'kiwi', 'grapes', ['apple', ' mango', 'melon']]\n"
     ]
    }
   ],
   "source": [
    "fruits_not[0].remove('banana')\n",
    "print(fruits_not)"
   ]
  },
  {
   "cell_type": "code",
   "execution_count": 14,
   "id": "b10d6525-e11d-45bb-812b-c0b8e7016995",
   "metadata": {},
   "outputs": [
    {
     "name": "stdout",
     "output_type": "stream",
     "text": [
      "[]\n"
     ]
    }
   ],
   "source": [
    "fruits_not.clear()\n",
    "print(fruits_not)"
   ]
  },
  {
   "cell_type": "code",
   "execution_count": 15,
   "id": "cb41cab8-14ce-4f5b-bead-861416a11b8b",
   "metadata": {},
   "outputs": [
    {
     "name": "stdout",
     "output_type": "stream",
     "text": [
      "1770399432128\n"
     ]
    }
   ],
   "source": [
    "print(id(fruits_not))\n"
   ]
  },
  {
   "cell_type": "code",
   "execution_count": 16,
   "id": "e5553bf4-e816-4dac-8272-403113881501",
   "metadata": {},
   "outputs": [
    {
     "ename": "NameError",
     "evalue": "name 'fruits_not' is not defined",
     "output_type": "error",
     "traceback": [
      "\u001b[1;31m---------------------------------------------------------------------------\u001b[0m",
      "\u001b[1;31mNameError\u001b[0m                                 Traceback (most recent call last)",
      "Cell \u001b[1;32mIn[16], line 2\u001b[0m\n\u001b[0;32m      1\u001b[0m \u001b[38;5;28;01mdel\u001b[39;00m fruits_not\n\u001b[1;32m----> 2\u001b[0m \u001b[38;5;28mprint\u001b[39m(fruits_not)\n",
      "\u001b[1;31mNameError\u001b[0m: name 'fruits_not' is not defined"
     ]
    }
   ],
   "source": [
    "del fruits_not\n",
    "print(fruits_not)"
   ]
  },
  {
   "cell_type": "code",
   "execution_count": null,
   "id": "efaa396f-c7da-45d9-a000-cc3369ba5820",
   "metadata": {},
   "outputs": [],
   "source": [
    "print(fruits_not)"
   ]
  },
  {
   "cell_type": "code",
   "execution_count": null,
   "id": "c30fb493-6aa5-4135-8dd3-76d6a009b15d",
   "metadata": {},
   "outputs": [],
   "source": [
    "'grapes' in fruits_not"
   ]
  },
  {
   "cell_type": "code",
   "execution_count": null,
   "id": "e7e970ff-bd68-4268-9dd3-cb0d03469ea3",
   "metadata": {},
   "outputs": [],
   "source": [
    "'banana' in fruits_not[0]"
   ]
  },
  {
   "cell_type": "code",
   "execution_count": null,
   "id": "3561519f-1048-4bc6-bb32-e52701690988",
   "metadata": {},
   "outputs": [],
   "source": [
    "# mutable is changeable\n",
    "# imutable is not changeable\n",
    "# () tuple"
   ]
  },
  {
   "cell_type": "code",
   "execution_count": 19,
   "id": "fd69b9ce-402b-4bec-bd2c-a789951b28d3",
   "metadata": {},
   "outputs": [
    {
     "name": "stdout",
     "output_type": "stream",
     "text": [
      "<class 'tuple'>\n"
     ]
    }
   ],
   "source": [
    "number = (1,2,2,3,4,5,6,7,8)\n",
    "print(type(number))"
   ]
  },
  {
   "cell_type": "code",
   "execution_count": 20,
   "id": "0b0e8738-4dd8-4c85-a59d-bdd1aa091777",
   "metadata": {},
   "outputs": [
    {
     "name": "stdout",
     "output_type": "stream",
     "text": [
      "(1, 2, 2, 3, 4, 5, 6, 7, 8)\n"
     ]
    }
   ],
   "source": [
    "print(number)\n"
   ]
  },
  {
   "cell_type": "code",
   "execution_count": 21,
   "id": "2dc0bdd6-0935-45d2-89c2-e113010fd553",
   "metadata": {},
   "outputs": [
    {
     "name": "stdout",
     "output_type": "stream",
     "text": [
      "('saad', 'saeed', 'ali', 'amjad')\n"
     ]
    }
   ],
   "source": [
    "name = ('saad','saeed','ali','amjad')\n",
    "print(name)"
   ]
  },
  {
   "cell_type": "code",
   "execution_count": 22,
   "id": "b3b04a77-a2aa-4e76-80a7-cd99bc05b490",
   "metadata": {},
   "outputs": [
    {
     "data": {
      "text/plain": [
       "1"
      ]
     },
     "execution_count": 22,
     "metadata": {},
     "output_type": "execute_result"
    }
   ],
   "source": [
    "number[0]"
   ]
  },
  {
   "cell_type": "code",
   "execution_count": null,
   "id": "751487b9-130e-47ee-8ce3-55ec7ec6cdbb",
   "metadata": {},
   "outputs": [],
   "source": [
    "#unchangeable data type is 'tuple'\n",
    "#changeable data types is in 'list'"
   ]
  },
  {
   "cell_type": "code",
   "execution_count": 23,
   "id": "c6e99c28-68c7-44cb-92c2-7d9b390b114e",
   "metadata": {},
   "outputs": [
    {
     "name": "stdout",
     "output_type": "stream",
     "text": [
      "2\n"
     ]
    }
   ],
   "source": [
    "print(number.count(2))"
   ]
  },
  {
   "cell_type": "markdown",
   "id": "e96f601d-9217-4a33-9197-9ec2adac459c",
   "metadata": {},
   "source": [
    "number1 = (22,23,24,25,26,27)\n",
    "print(number1)"
   ]
  },
  {
   "cell_type": "code",
   "execution_count": 17,
   "id": "4da966df-ae92-41da-afaf-c6338eba5b5c",
   "metadata": {},
   "outputs": [
    {
     "name": "stdout",
     "output_type": "stream",
     "text": [
      "1\n"
     ]
    }
   ],
   "source": [
    "n = 1\n",
    "print(n)"
   ]
  },
  {
   "cell_type": "code",
   "execution_count": 25,
   "id": "7373de95-5a96-479f-98bf-66c11b3909bb",
   "metadata": {},
   "outputs": [
    {
     "name": "stdout",
     "output_type": "stream",
     "text": [
      "(11, 22, 33, 44, 55, 66)\n"
     ]
    }
   ],
   "source": [
    "number2 = (11,22,33,44,55,66)\n",
    "print(number2)"
   ]
  },
  {
   "cell_type": "code",
   "execution_count": null,
   "id": "6c61c077-2a24-4832-bd76-fc4f031ca46b",
   "metadata": {},
   "outputs": [],
   "source": [
    "number_list = number + number1 #concidination\n",
    "print(number_list)"
   ]
  },
  {
   "cell_type": "code",
   "execution_count": 29,
   "id": "e28af4c9-107e-49fd-9fd0-8733dcd3a172",
   "metadata": {},
   "outputs": [
    {
     "data": {
      "text/plain": [
       "<function tuple.index(value, start=0, stop=9223372036854775807, /)>"
      ]
     },
     "execution_count": 29,
     "metadata": {},
     "output_type": "execute_result"
    }
   ],
   "source": [
    "number2.index(33) #indexing with tuple - First time elements occurs\n",
    "number2.index"
   ]
  },
  {
   "cell_type": "code",
   "execution_count": null,
   "id": "1edb06e7-59d9-4685-baff-5d39a105f55f",
   "metadata": {},
   "outputs": [],
   "source": [
    "print(number1*3)"
   ]
  },
  {
   "cell_type": "code",
   "execution_count": null,
   "id": "8dd444b0-2214-448a-b9d4-b94e725713a2",
   "metadata": {},
   "outputs": [],
   "source": [
    "print(number_list*3)\n"
   ]
  },
  {
   "cell_type": "markdown",
   "id": "bff5fa9f-cc89-461b-b6a2-440121090c30",
   "metadata": {},
   "source": [
    "'3"
   ]
  },
  {
   "cell_type": "raw",
   "id": "60bb4d17-8b2a-4d07-bbef-6f4788097625",
   "metadata": {},
   "source": [
    "number_list.index(3)"
   ]
  },
  {
   "cell_type": "code",
   "execution_count": null,
   "id": "37ad6dfd-f62d-46ff-8522-404263a3c4ac",
   "metadata": {},
   "outputs": [],
   "source": [
    "number_list.count(11)"
   ]
  },
  {
   "cell_type": "code",
   "execution_count": null,
   "id": "54ea02b4-6224-4ad2-a68c-faa385ce8d06",
   "metadata": {},
   "outputs": [],
   "source": [
    "print(number2)"
   ]
  },
  {
   "cell_type": "raw",
   "id": "93f98b6f-306b-4005-a3d8-36162c3107e6",
   "metadata": {},
   "source": [
    "print(number_list(11))"
   ]
  },
  {
   "cell_type": "code",
   "execution_count": 30,
   "id": "c055d625-ce9c-4085-952d-547339e58fe7",
   "metadata": {},
   "outputs": [
    {
     "name": "stdout",
     "output_type": "stream",
     "text": [
      "['apple', ' mango', 'melon']\n"
     ]
    }
   ],
   "source": [
    "print(fruits)"
   ]
  },
  {
   "cell_type": "code",
   "execution_count": 38,
   "id": "5e13ff28-90c7-408d-a5e0-12d2355b041a",
   "metadata": {},
   "outputs": [
    {
     "name": "stdout",
     "output_type": "stream",
     "text": [
      "['apple', 'mango', 'melon', (11, 22, 33, 44, 55, 66)]\n"
     ]
    }
   ],
   "source": [
    "fruits = ['apple' , 'mango' , 'melon'] # adding list into tuple\n",
    "fruits.append(number2)\n",
    "print(fruits)"
   ]
  },
  {
   "cell_type": "code",
   "execution_count": 36,
   "id": "244fefbd-3d0c-4e14-981a-3170780d6691",
   "metadata": {},
   "outputs": [
    {
     "name": "stdout",
     "output_type": "stream",
     "text": [
      "['apple', 'mango', 'melon', 'banana']\n"
     ]
    }
   ],
   "source": [
    "fruits = ['apple' , 'mango' , 'melon']\n",
    "fruits.append('banana')\n",
    "print(fruits)"
   ]
  },
  {
   "cell_type": "code",
   "execution_count": 37,
   "id": "b6c4e957-da41-4a86-8867-58b59b3ec7ab",
   "metadata": {},
   "outputs": [
    {
     "name": "stdout",
     "output_type": "stream",
     "text": [
      "['apple', 'mango', 'melon', 'banana']\n"
     ]
    }
   ],
   "source": [
    "print(fruits)"
   ]
  },
  {
   "cell_type": "code",
   "execution_count": 39,
   "id": "36979d8e-4f62-405d-ae41-bb15ed1ce5e1",
   "metadata": {},
   "outputs": [
    {
     "ename": "TypeError",
     "evalue": "can only concatenate list (not \"tuple\") to list",
     "output_type": "error",
     "traceback": [
      "\u001b[1;31m---------------------------------------------------------------------------\u001b[0m",
      "\u001b[1;31mTypeError\u001b[0m                                 Traceback (most recent call last)",
      "Cell \u001b[1;32mIn[39], line 1\u001b[0m\n\u001b[1;32m----> 1\u001b[0m fruitt \u001b[38;5;241m=\u001b[39m fruits \u001b[38;5;241m+\u001b[39m number2\n",
      "\u001b[1;31mTypeError\u001b[0m: can only concatenate list (not \"tuple\") to list"
     ]
    }
   ],
   "source": [
    "fruitt = fruits + number2 "
   ]
  },
  {
   "cell_type": "code",
   "execution_count": null,
   "id": "56b2365d-f560-4cb1-a9d2-e3df3af702ac",
   "metadata": {},
   "outputs": [],
   "source": [
    "# list can add tuples but tuple will not add list. "
   ]
  },
  {
   "cell_type": "code",
   "execution_count": 40,
   "id": "b31f0909-084b-48d5-954e-2ee80c2a648d",
   "metadata": {},
   "outputs": [
    {
     "name": "stdout",
     "output_type": "stream",
     "text": [
      "['apple', 'mango', 'melon', (11, 22, 33, 44, 55, 66)]\n"
     ]
    }
   ],
   "source": [
    "print(fruits)"
   ]
  },
  {
   "cell_type": "code",
   "execution_count": 41,
   "id": "8c93d69c-74f3-4a46-83ad-e76bd4efd0da",
   "metadata": {},
   "outputs": [
    {
     "name": "stdout",
     "output_type": "stream",
     "text": [
      "(22, 33, 45, 57, 88, 99)\n"
     ]
    }
   ],
   "source": [
    "num = (22,33,45,57,88,99)\n",
    "print(num)"
   ]
  },
  {
   "cell_type": "code",
   "execution_count": 43,
   "id": "6a7c7c4e-ea26-41f0-b9ac-f9f01590955c",
   "metadata": {},
   "outputs": [
    {
     "name": "stdout",
     "output_type": "stream",
     "text": [
      "['apple', (22, 33, 45, 57, 88, 99), (22, 33, 45, 57, 88, 99), 'mango', 'melon', (11, 22, 33, 44, 55, 66)]\n"
     ]
    }
   ],
   "source": [
    "fruits.insert(1,num)\n",
    "print(fruits)"
   ]
  },
  {
   "cell_type": "code",
   "execution_count": 44,
   "id": "b0fc0af4-c0d9-43a6-bc45-a31bfce81336",
   "metadata": {},
   "outputs": [
    {
     "name": "stdout",
     "output_type": "stream",
     "text": [
      "99\n"
     ]
    }
   ],
   "source": [
    "print (max(num))"
   ]
  },
  {
   "cell_type": "code",
   "execution_count": 51,
   "id": "73bd203a-3b7d-4533-b3ba-1a9322b9a8aa",
   "metadata": {},
   "outputs": [
    {
     "name": "stdout",
     "output_type": "stream",
     "text": [
      "22\n",
      "6\n"
     ]
    },
    {
     "data": {
      "text/plain": [
       "[22, 33, 45, 57, 88, 99]"
      ]
     },
     "execution_count": 51,
     "metadata": {},
     "output_type": "execute_result"
    }
   ],
   "source": [
    "print (min(num))\n",
    "print (len(num))\n",
    "sorted (num)"
   ]
  },
  {
   "cell_type": "code",
   "execution_count": 52,
   "id": "242d4ed9-3083-480c-88cc-c96ff6bcd9fd",
   "metadata": {},
   "outputs": [
    {
     "data": {
      "text/plain": [
       "344"
      ]
     },
     "execution_count": 52,
     "metadata": {},
     "output_type": "execute_result"
    }
   ],
   "source": [
    "sum(num)"
   ]
  },
  {
   "cell_type": "code",
   "execution_count": 57,
   "id": "ab27b64f-cab3-4d4e-8984-b2e7a5668ed4",
   "metadata": {},
   "outputs": [
    {
     "data": {
      "text/plain": [
       "[99, 88, 57, 45, 33, 22]"
      ]
     },
     "execution_count": 57,
     "metadata": {},
     "output_type": "execute_result"
    }
   ],
   "source": [
    "sorted(num,reverse = True)"
   ]
  },
  {
   "cell_type": "code",
   "execution_count": 61,
   "id": "441e5ef5-db3c-4be5-9549-e0318524d738",
   "metadata": {},
   "outputs": [
    {
     "name": "stdout",
     "output_type": "stream",
     "text": [
      "1\n",
      "0\n"
     ]
    }
   ],
   "source": [
    "print(num.count(33))\n",
    "print(num.index(22))"
   ]
  },
  {
   "cell_type": "code",
   "execution_count": 65,
   "id": "31b2814b-fa43-4e79-838b-6bc6588a555d",
   "metadata": {},
   "outputs": [
    {
     "data": {
      "text/plain": [
       "98"
      ]
     },
     "execution_count": 65,
     "metadata": {},
     "output_type": "execute_result"
    }
   ],
   "source": [
    "round(98.5)"
   ]
  },
  {
   "cell_type": "code",
   "execution_count": 67,
   "id": "8f407d45-a239-489f-894d-42c6fee52ba2",
   "metadata": {},
   "outputs": [
    {
     "data": {
      "text/plain": [
       "98"
      ]
     },
     "execution_count": 67,
     "metadata": {},
     "output_type": "execute_result"
    }
   ],
   "source": [
    "round(98.4)"
   ]
  },
  {
   "cell_type": "code",
   "execution_count": 68,
   "id": "608bb7ac-93ef-4441-94db-7ac627dd47dc",
   "metadata": {},
   "outputs": [
    {
     "data": {
      "text/plain": [
       "99"
      ]
     },
     "execution_count": 68,
     "metadata": {},
     "output_type": "execute_result"
    }
   ],
   "source": [
    "round(98.6)"
   ]
  },
  {
   "cell_type": "code",
   "execution_count": 72,
   "id": "e4064f37-9bf9-4bc5-b7d9-31e0223b537b",
   "metadata": {},
   "outputs": [
    {
     "name": "stdout",
     "output_type": "stream",
     "text": [
      "<class 'int'>\n",
      "2 3 4\n"
     ]
    }
   ],
   "source": [
    "a,b,c = (2,3,4)   # unpacking of the element of tuple it results it into \"int\"\n",
    "print(type(a))\n",
    "print(a,b,c)"
   ]
  },
  {
   "cell_type": "code",
   "execution_count": 73,
   "id": "26edb1d5-8c2c-4b25-b119-0ce9bbe7111f",
   "metadata": {},
   "outputs": [
    {
     "ename": "ValueError",
     "evalue": "too many values to unpack (expected 2)",
     "output_type": "error",
     "traceback": [
      "\u001b[1;31m---------------------------------------------------------------------------\u001b[0m",
      "\u001b[1;31mValueError\u001b[0m                                Traceback (most recent call last)",
      "Cell \u001b[1;32mIn[73], line 1\u001b[0m\n\u001b[1;32m----> 1\u001b[0m a,b \u001b[38;5;241m=\u001b[39m (\u001b[38;5;241m2\u001b[39m,\u001b[38;5;241m3\u001b[39m,\u001b[38;5;241m4\u001b[39m)   \u001b[38;5;66;03m# unpacking of the element of tuple it results it into \"int\"\u001b[39;00m\n\u001b[0;32m      2\u001b[0m \u001b[38;5;28mprint\u001b[39m(\u001b[38;5;28mtype\u001b[39m(a))\n\u001b[0;32m      3\u001b[0m \u001b[38;5;28mprint\u001b[39m(a,b,c)\n",
      "\u001b[1;31mValueError\u001b[0m: too many values to unpack (expected 2)"
     ]
    }
   ],
   "source": [
    "a,b = (2,3,4)   # unpacking of the element of tuple it results it into \"int\"\n",
    "print(type(a))\n",
    "print(a,b)"
   ]
  },
  {
   "cell_type": "code",
   "execution_count": 76,
   "id": "0a1d25ea-23dd-4a4f-9860-c964bbf3be90",
   "metadata": {},
   "outputs": [
    {
     "name": "stdout",
     "output_type": "stream",
     "text": [
      "<class 'list'>\n",
      "[3, 4]\n"
     ]
    }
   ],
   "source": [
    "a,*others = (2,3,4)   # unpacking of the element of tuple it results it into \"int\"\n",
    "print(type(others)) # when tuple is unpacked, it differentiates into tuple and list.\n",
    "print(others)"
   ]
  },
  {
   "cell_type": "code",
   "execution_count": 78,
   "id": "96358547-35d5-4c28-8185-e5bff2b44c8c",
   "metadata": {},
   "outputs": [
    {
     "name": "stdout",
     "output_type": "stream",
     "text": [
      "<class 'list'>\n"
     ]
    }
   ],
   "source": [
    "print(type(list(name))) #tuple converted into list and vise versa."
   ]
  },
  {
   "cell_type": "code",
   "execution_count": null,
   "id": "51e40666-9ddc-479e-818c-28c48f0980d8",
   "metadata": {},
   "outputs": [],
   "source": []
  }
 ],
 "metadata": {
  "kernelspec": {
   "display_name": "Python 3 (ipykernel)",
   "language": "python",
   "name": "python3"
  },
  "language_info": {
   "codemirror_mode": {
    "name": "ipython",
    "version": 3
   },
   "file_extension": ".py",
   "mimetype": "text/x-python",
   "name": "python",
   "nbconvert_exporter": "python",
   "pygments_lexer": "ipython3",
   "version": "3.12.4"
  }
 },
 "nbformat": 4,
 "nbformat_minor": 5
}
