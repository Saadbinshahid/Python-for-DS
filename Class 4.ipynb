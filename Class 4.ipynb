{
 "cells": [
  {
   "cell_type": "code",
   "execution_count": 1,
   "id": "102c0c21-1558-40a9-add9-c7f0a15b90e9",
   "metadata": {},
   "outputs": [
    {
     "name": "stdin",
     "output_type": "stream",
     "text": [
      "Enter your name 5\n"
     ]
    },
    {
     "name": "stdout",
     "output_type": "stream",
     "text": [
      "False\n",
      "True\n"
     ]
    }
   ],
   "source": [
    "name = input('Enter your name')\n",
    "print ('saad' in name)\n",
    "print ('saad' not in name)"
   ]
  },
  {
   "cell_type": "code",
   "execution_count": null,
   "id": "65d87859-9f4a-46aa-8040-2df26f249940",
   "metadata": {},
   "outputs": [],
   "source": []
  },
  {
   "cell_type": "code",
   "execution_count": 2,
   "id": "8a948a76-aca3-4a44-b70b-fc7183fe6d74",
   "metadata": {},
   "outputs": [
    {
     "name": "stdout",
     "output_type": "stream",
     "text": [
      "False\n",
      "False\n"
     ]
    },
    {
     "name": "stderr",
     "output_type": "stream",
     "text": [
      "<>:2: SyntaxWarning: \"is\" with 'str' literal. Did you mean \"==\"?\n",
      "<>:2: SyntaxWarning: \"is\" with 'str' literal. Did you mean \"==\"?\n",
      "C:\\Users\\Lenovo\\AppData\\Local\\Temp\\ipykernel_19928\\1487658701.py:2: SyntaxWarning: \"is\" with 'str' literal. Did you mean \"==\"?\n",
      "  print ('saad' is name)\n"
     ]
    }
   ],
   "source": [
    "name = 'saad bin shahid'\n",
    "print ('saad' is name)\n",
    "print ('saad' not in name)"
   ]
  },
  {
   "cell_type": "markdown",
   "id": "b31dedc5-6ea2-4d83-9026-d407f5bde89c",
   "metadata": {},
   "source": [
    "# Other data types\n",
    "1. List\n",
    "2. Tuple\n",
    "3. Set\n",
    "4. Dictionary"
   ]
  },
  {
   "cell_type": "code",
   "execution_count": 3,
   "id": "37452921-9edc-4eea-8b14-47d5f112e381",
   "metadata": {},
   "outputs": [
    {
     "name": "stdout",
     "output_type": "stream",
     "text": [
      "<class 'list'>\n",
      "[]\n"
     ]
    }
   ],
   "source": [
    "fruits = []\n",
    "print(type(fruits))\n",
    "print(fruits)"
   ]
  },
  {
   "cell_type": "code",
   "execution_count": 4,
   "id": "aada2dee-d852-493c-8b78-9ad97f8c05ea",
   "metadata": {},
   "outputs": [
    {
     "name": "stdout",
     "output_type": "stream",
     "text": [
      "<class 'list'>\n",
      "['Apple', 'mango', 'orange']\n",
      "3\n"
     ]
    }
   ],
   "source": [
    "fruits = ['Apple' , 'mango', 'orange']\n",
    "print(type(fruits))\n",
    "print(fruits)\n",
    "print(len(fruits))\n"
   ]
  },
  {
   "cell_type": "code",
   "execution_count": 5,
   "id": "b704201a-6685-4190-90e3-d8b1f73d69e6",
   "metadata": {},
   "outputs": [
    {
     "name": "stdout",
     "output_type": "stream",
     "text": [
      "['Apple', 'mango', 'orange', 'Apple', 'Banana']\n",
      "<class 'list'>\n",
      "5\n"
     ]
    }
   ],
   "source": [
    "fruits.append('Apple') #append insert \n",
    "fruits.append('Banana')\n",
    "print(fruits)\n",
    "print(type(fruits))\n",
    "print(len(fruits))"
   ]
  },
  {
   "cell_type": "code",
   "execution_count": 6,
   "id": "6d81d70c-1b6a-4aaa-a76d-d3ee7384832c",
   "metadata": {},
   "outputs": [
    {
     "name": "stdout",
     "output_type": "stream",
     "text": [
      "<class 'list'>\n",
      "['Apple', 'mango', 'orange', 'Apple', 'Banana', 'jamun']\n",
      "6\n"
     ]
    }
   ],
   "source": [
    "fruits.append('jamun')\n",
    "print(type(fruits))\n",
    "print(fruits)\n",
    "print(len(fruits))\n"
   ]
  },
  {
   "cell_type": "raw",
   "id": "d179af2b-b8f4-4846-a7ed-e00890fa0662",
   "metadata": {},
   "source": [
    "#indexing - always started with 0 (it represents the position of the elements in list) [0,1,2,3,4,5]"
   ]
  },
  {
   "cell_type": "code",
   "execution_count": 7,
   "id": "c0e23bab-4732-4e28-933b-ab50dd1f2b91",
   "metadata": {},
   "outputs": [
    {
     "name": "stdout",
     "output_type": "stream",
     "text": [
      "['Apple', 'mango', 'orange', 'Apple', 'Banana', 'jamun']\n",
      "['Apple', 'Apple']\n",
      "['mango', 'Banana']\n",
      "['Apple', 'mango', 'orange', 'Apple', 'Banana', 'jamun']\n",
      "jamun\n"
     ]
    }
   ],
   "source": [
    "print(fruits[:])# inclusive : exclusive \n",
    "print(fruits[0:4:3])# inclusive : exclusive :step\n",
    "print(fruits[1::3]) \n",
    "print(fruits[:])\n",
    "print(fruits[-1])"
   ]
  },
  {
   "cell_type": "code",
   "execution_count": 8,
   "id": "a1a80fc8-8bfa-48c6-a2f9-036026eb2150",
   "metadata": {},
   "outputs": [
    {
     "data": {
      "text/plain": [
       "['Apple', 'mango', 'orange', 'Apple', 'Banana', 'jamun']"
      ]
     },
     "execution_count": 8,
     "metadata": {},
     "output_type": "execute_result"
    }
   ],
   "source": [
    "#negative indexing starts with -1, [-5,-4,-3,-2,-1]\n",
    "fruits\n"
   ]
  },
  {
   "cell_type": "code",
   "execution_count": 5,
   "id": "5ec68ecb-8414-451d-b664-fef4625f2b3b",
   "metadata": {},
   "outputs": [
    {
     "name": "stdout",
     "output_type": "stream",
     "text": [
      "['Apple', 'mango', 'orange', 'dragon fruit', 'jamun', 'Banana']\n"
     ]
    }
   ],
   "source": [
    "fruits = ['Apple', 'mango', 'orange', 'dragon fruit', 'jamun', 'Banana']\n",
    "print(fruits)"
   ]
  },
  {
   "cell_type": "code",
   "execution_count": 6,
   "id": "4097beed-fcc7-4efd-b29d-b89032b607e8",
   "metadata": {},
   "outputs": [
    {
     "name": "stdout",
     "output_type": "stream",
     "text": [
      "['Apricot', 'Apple', 'mango', 'orange', 'dragon fruit', 'jamun', 'Banana']\n"
     ]
    }
   ],
   "source": [
    "#insert function\n",
    "fruits.insert(0,'Apricot')\n",
    "print(fruits)"
   ]
  },
  {
   "cell_type": "code",
   "execution_count": 7,
   "id": "05913ed6-2517-4328-b77d-0803561b3632",
   "metadata": {},
   "outputs": [],
   "source": [
    "fruits.insert(4,'water melon')"
   ]
  },
  {
   "cell_type": "code",
   "execution_count": 12,
   "id": "6ca83847-7d87-49df-965f-844a33c2577b",
   "metadata": {},
   "outputs": [
    {
     "name": "stdout",
     "output_type": "stream",
     "text": [
      "['Apricot', 'Apple', 'mango', 'orange', 'water melon', 'dragon fruit', 'jamun', 'Banana']\n"
     ]
    }
   ],
   "source": [
    "print(fruits)"
   ]
  },
  {
   "cell_type": "code",
   "execution_count": 13,
   "id": "f0f5a83d-6656-4c67-a4ab-af249f8e0d67",
   "metadata": {},
   "outputs": [
    {
     "data": {
      "text/plain": [
       "8"
      ]
     },
     "execution_count": 13,
     "metadata": {},
     "output_type": "execute_result"
    }
   ],
   "source": [
    "len(fruits)"
   ]
  },
  {
   "cell_type": "code",
   "execution_count": 8,
   "id": "2c3e5eca-d036-40f9-8d2d-46199b0a613f",
   "metadata": {},
   "outputs": [
    {
     "name": "stdout",
     "output_type": "stream",
     "text": [
      "['Apricot', 'Apple', 'mango', 'orange', 'water melon', 'dragon fruit', 'jamun']\n",
      "['Apricot', 'mango', 'orange', 'water melon', 'dragon fruit', 'jamun']\n"
     ]
    }
   ],
   "source": [
    "#pop function - reverse of append function\n",
    "fruits.pop() # removes element from the end - only treats int\n",
    "print(fruits)\n",
    "fruits.pop(1)\n",
    "print(fruits)"
   ]
  },
  {
   "cell_type": "code",
   "execution_count": 9,
   "id": "b6eb8d3a-7f19-49a9-839d-ebdb53708098",
   "metadata": {},
   "outputs": [
    {
     "name": "stdout",
     "output_type": "stream",
     "text": [
      "['Apricot', 'mango', 'water melon', 'dragon fruit', 'jamun']\n"
     ]
    }
   ],
   "source": [
    "fruits.remove('orange') # we can write name/number or whatever is exact named in list, of the element of the list\n",
    "print(fruits) "
   ]
  },
  {
   "cell_type": "markdown",
   "id": "311405ee-3180-4d1d-be24-d9dd0dcbde6e",
   "metadata": {},
   "source": [
    "#append and pop\n",
    "#insert and remove"
   ]
  },
  {
   "cell_type": "code",
   "execution_count": 12,
   "id": "18458d9f-db86-4a95-a78f-f0a97088bb1b",
   "metadata": {},
   "outputs": [
    {
     "name": "stdout",
     "output_type": "stream",
     "text": [
      "['Apricot', 'mango', 'water melon', 'dragon fruit', 'jamun', ['melon', 'mango', 'kiwi'], ['melon', 'mango', 'kiwi']]\n"
     ]
    }
   ],
   "source": [
    "fruits_in_summer = ['melon' ,'mango' , 'kiwi']\n",
    "fruits.append(fruits_in_summer)\n",
    "print(fruits)"
   ]
  },
  {
   "cell_type": "code",
   "execution_count": 14,
   "id": "f7cb3416-827f-4785-82db-9ef43d0f3a8e",
   "metadata": {},
   "outputs": [
    {
     "name": "stdout",
     "output_type": "stream",
     "text": [
      "['melon', 'kiwi']\n"
     ]
    }
   ],
   "source": [
    "print(fruits[6][0::2]) #multi dimensional indexing. "
   ]
  },
  {
   "cell_type": "code",
   "execution_count": null,
   "id": "da3014a4-d697-463e-9e19-073d13d3d2ae",
   "metadata": {},
   "outputs": [],
   "source": []
  }
 ],
 "metadata": {
  "kernelspec": {
   "display_name": "Python 3 (ipykernel)",
   "language": "python",
   "name": "python3"
  },
  "language_info": {
   "codemirror_mode": {
    "name": "ipython",
    "version": 3
   },
   "file_extension": ".py",
   "mimetype": "text/x-python",
   "name": "python",
   "nbconvert_exporter": "python",
   "pygments_lexer": "ipython3",
   "version": "3.12.4"
  }
 },
 "nbformat": 4,
 "nbformat_minor": 5
}
