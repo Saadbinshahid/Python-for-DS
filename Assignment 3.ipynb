{
 "cells": [
  {
   "cell_type": "code",
   "execution_count": null,
   "id": "b124f56b-2a0f-48e0-a7c2-c3c013cb3117",
   "metadata": {},
   "outputs": [],
   "source": [
    "#Question no.2 - ATM Machine"
   ]
  },
  {
   "cell_type": "code",
   "execution_count": null,
   "id": "3f70d966-a8b9-40b6-9e67-5076bb493698",
   "metadata": {},
   "outputs": [],
   "source": [
    "current_balance = 10000\n",
    "\n",
    "while True:\n",
    "    menu = input('''\n",
    "    1- Your Current Account Balance \n",
    "    2- Deposit Money to your Account \n",
    "    3- Cash Withdraw \n",
    "    4- Exit \n",
    "    ''')\n",
    "\n",
    "    if menu == '1':\n",
    "        print('Your current account balance is:', current_balance)\n",
    "\n",
    "    elif menu == '2':\n",
    "        new_balance = int(input('Enter the amount to deposit:'))\n",
    "        if new_balance > 0:\n",
    "            current_balance = current_balance + new_balance\n",
    "            print('Your new account balance is' , current_balance)\n",
    "        else:\n",
    "            print('Enter a valid amount')\n",
    "\n",
    "    elif menu == '3':\n",
    "        cash_withdraw = int(input('Enter the amount to withdraw'))\n",
    "        if cash_withdraw > 0:\n",
    "          current_balance = current_balance - cash_withdraw\n",
    "          print('Your remaining account balance is', current_balance)\n",
    "\n",
    "        else:\n",
    "            print('Insufficient Funds !!!')\n",
    "\n",
    "    elif menu == '4':\n",
    "        print('Thank you for banking with us')\n",
    "        break"
   ]
  },
  {
   "cell_type": "code",
   "execution_count": 1,
   "id": "4b96817b-22e0-46b8-95d0-b992c91865e7",
   "metadata": {},
   "outputs": [],
   "source": [
    "#Question no. 02 Coffee Machine\n",
    "#Part 1 & 2"
   ]
  },
  {
   "cell_type": "code",
   "execution_count": null,
   "id": "e24eab3d-ef1f-4809-955c-716122261e80",
   "metadata": {},
   "outputs": [],
   "source": [
    "while True:\n",
    "  coffee = input('''\n",
    "  What would you like to have\n",
    "  1- espresso\n",
    "  2- lattee\n",
    "  3-cappuccino\n",
    "  4- Tun 4\n",
    "  4Off Machine\n",
    "  ''' )\n",
    "  if coffee =='1':\n",
    "      user = str(input('What do you like to do next ?'))\n",
    "      print('Heres your coffee')\n",
    "  elif coffee =='2':\n",
    "      user = str(input('What do you like to do next ?'))\n",
    "      print('Heres your coffee')\n",
    "  elif coffee =='3':\n",
    "      user = str(input('What do you like to do next ?'))\n",
    "      print('Here is your coffee')\n",
    "  elif coffee =='4':\n",
    "    print('Thankyou for having us')\n",
    "    break\n",
    "else:\n",
    "  print('Machine is under maintenance')"
   ]
  },
  {
   "cell_type": "code",
   "execution_count": 2,
   "id": "f4496821-b6b4-4a0f-90e5-2e0de703c7fc",
   "metadata": {},
   "outputs": [],
   "source": [
    "# Part 3 "
   ]
  },
  {
   "cell_type": "code",
   "execution_count": 4,
   "id": "106e3e2f-4ebc-4e01-b32a-aecaec20e1ea",
   "metadata": {},
   "outputs": [
    {
     "name": "stdin",
     "output_type": "stream",
     "text": [
      "What is the report for resources ? report\n"
     ]
    },
    {
     "name": "stdout",
     "output_type": "stream",
     "text": [
      "{'Water': 100, 'Milk': 50, 'Coffee': 76, 'Money': 2.5}\n"
     ]
    }
   ],
   "source": [
    "user = input('What is the report for resources ?')\n",
    "if user == 'report':\n",
    "    resource = {'Water' : 100 , 'Milk' : 50, 'Coffee' : 76 , 'Money' : 2.5}\n",
    "    print(resource)\n"
   ]
  },
  {
   "cell_type": "code",
   "execution_count": 5,
   "id": "a1b7dcb0-69c7-4fef-bb7a-2f59141f9104",
   "metadata": {},
   "outputs": [],
   "source": [
    "#part 4 "
   ]
  },
  {
   "cell_type": "code",
   "execution_count": null,
   "id": "49a9330c-e0d8-4c5e-9fe4-fb7fd4e8fbb0",
   "metadata": {},
   "outputs": [],
   "source": [
    "drinks = input('''\n",
    "1- Lattee\n",
    "2- Espresso\n",
    "3- Cappuccino\n",
    "''')\n",
    "Lattee = {\n",
    "    'water': 120,\n",
    "    'milk': 25,\n",
    "    'coffee' : 15,\n",
    "}\n",
    "Espresso = {\n",
    "    'water' : 140,\n",
    "    'milk' : 25,\n",
    "    'coffee' : 12,\n",
    "}\n",
    "Cappuccino = {\n",
    "    'water' : 145,\n",
    "    'milk' : 20,\n",
    "    'coffee' : 22,\n",
    "}\n",
    "resources = {'water' : 100, 'milk':50 , 'coffee':76}\t\n",
    "if drinks == '1':\n",
    "  if Lattee['water'] > resources['water']:\n",
    "    print('Sorry there is not enough water')\n",
    "  elif Lattee['milk'] > resources['milk']:\n",
    "    print('Sorry there is not enough milk')\n",
    "  else:\n",
    "    print('Sorry there is not enough coffee')\t\n",
    "elif drinks == '2':\n",
    "  if Espresso['water'] > resources['water']:\n",
    "    print('Sorry there is not enough water')\n",
    "  elif Espresso['milk'] > resources['milk']:\n",
    "    print('Sorry there is not enough milk')\n",
    "  else:\n",
    "    print('Sorry there is not enough coffee')\n",
    "elif drinks == '3':\n",
    "  if Cappuccino['water'] > resources['water']:\n",
    "    print('Sorry there is not enough water')\n",
    "  elif Cappuccino['milk'] > resources['milk']:\n",
    "    print('Sorry there is not enough milk')\n",
    "  else:\n",
    "    print('Sorry there is not enough coffee')\n",
    "else:\n",
    "  print('We dont have this drink')"
   ]
  }
 ],
 "metadata": {
  "kernelspec": {
   "display_name": "Python 3 (ipykernel)",
   "language": "python",
   "name": "python3"
  },
  "language_info": {
   "codemirror_mode": {
    "name": "ipython",
    "version": 3
   },
   "file_extension": ".py",
   "mimetype": "text/x-python",
   "name": "python",
   "nbconvert_exporter": "python",
   "pygments_lexer": "ipython3",
   "version": "3.12.4"
  }
 },
 "nbformat": 4,
 "nbformat_minor": 5
}
