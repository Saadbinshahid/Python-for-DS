{
 "cells": [
  {
   "cell_type": "code",
   "execution_count": 1,
   "id": "552eefec-a30e-473c-911a-7d6badecd6c5",
   "metadata": {},
   "outputs": [],
   "source": [
    "#name = Saad Bin Shahid\n",
    "#profession = Mechanical Engineer\n",
    "#organization = Midas Safety \n",
    "#contact no. = +92 314 3253796\n",
    "#eamil = saadbinshahid1998@gmail.com"
   ]
  },
  {
   "cell_type": "code",
   "execution_count": null,
   "id": "2f82d380-a8c9-42af-93dd-a28950624ead",
   "metadata": {},
   "outputs": [],
   "source": [
    "#Q no.1"
   ]
  },
  {
   "cell_type": "code",
   "execution_count": 3,
   "id": "39cda447-3104-4244-9164-4f14e237ecbf",
   "metadata": {},
   "outputs": [
    {
     "name": "stdout",
     "output_type": "stream",
     "text": [
      "['apple', 'cherry', 'eldeberry']\n"
     ]
    }
   ],
   "source": [
    "fruits = ['apple' , 'banana' , 'cherry' , 'date']\n",
    "fruits.append('eldeberry') #adds eldeberry to the last in the list\n",
    "fruits.remove('banana') #removes banana from the list\n",
    "fruits.pop(2) # removes the element from the index 2 \n",
    "print(fruits)"
   ]
  },
  {
   "cell_type": "code",
   "execution_count": 4,
   "id": "330e0ff2-c253-433d-9d07-b36b508dc8e6",
   "metadata": {},
   "outputs": [],
   "source": [
    "#Qno.2 "
   ]
  },
  {
   "cell_type": "code",
   "execution_count": 8,
   "id": "aa4e7f7f-9b55-4766-a65c-bc721e52f5dd",
   "metadata": {},
   "outputs": [
    {
     "name": "stdin",
     "output_type": "stream",
     "text": [
      "Enter Your name Saad\n",
      "Enter Your age 26\n"
     ]
    },
    {
     "name": "stdout",
     "output_type": "stream",
     "text": [
      "Hello Saad Your are 26 years old\n"
     ]
    }
   ],
   "source": [
    "name = str(input('Enter Your name'))\n",
    "age = (input('Enter Your age'))\n",
    "print('Hello' , name , 'Your are' , age ,'years old')\n",
    "    "
   ]
  },
  {
   "cell_type": "code",
   "execution_count": 9,
   "id": "ffef5f57-b432-4e8e-8d6f-c8d5a547e5d4",
   "metadata": {},
   "outputs": [],
   "source": [
    "# Qno.5"
   ]
  },
  {
   "cell_type": "code",
   "execution_count": 11,
   "id": "a099b413-4d23-41d3-bb92-6624258e0e22",
   "metadata": {},
   "outputs": [
    {
     "name": "stdin",
     "output_type": "stream",
     "text": [
      "Enter the diameter of a circle 15\n"
     ]
    },
    {
     "name": "stdout",
     "output_type": "stream",
     "text": [
      "Area of the circle is = 176.625\n",
      "circumference of circle is = 47.1\n"
     ]
    }
   ],
   "source": [
    "diameter = int(input('Enter the diameter of a circle'))\n",
    "radius = diameter / 2\n",
    "area_of_circle = 3.14 * radius**2\n",
    "circumference_of_circle = 2 * 3.14 * radius\n",
    "print('Area of the circle is =' , area_of_circle)\n",
    "print('circumference of circle is =' , circumference_of_circle)"
   ]
  },
  {
   "cell_type": "code",
   "execution_count": 12,
   "id": "72f235c6-5f1c-4360-aa1d-9a3543301531",
   "metadata": {},
   "outputs": [],
   "source": [
    "#Qno. 6"
   ]
  },
  {
   "cell_type": "code",
   "execution_count": 14,
   "id": "9aaa5b87-9282-4b69-945c-71f29bff37ac",
   "metadata": {},
   "outputs": [
    {
     "name": "stdout",
     "output_type": "stream",
     "text": [
      "The total profit made by the company is: 800\n"
     ]
    }
   ],
   "source": [
    "flyingcost = 5000\n",
    "no_of_travellers = 29\n",
    "cost_of_one_ticket = 200\n",
    "total_profit = no_of_travellers * cost_of_one_ticket\n",
    "print ('The total profit made by the company is:' , total_profit - flyingcost)"
   ]
  },
  {
   "cell_type": "code",
   "execution_count": 15,
   "id": "977acb7e-cec0-404c-94df-7737fb618c62",
   "metadata": {},
   "outputs": [],
   "source": [
    "#Qno.3"
   ]
  },
  {
   "cell_type": "code",
   "execution_count": 27,
   "id": "bb3ad4fb-51e1-482b-b163-f5d8732a8542",
   "metadata": {},
   "outputs": [
    {
     "name": "stdin",
     "output_type": "stream",
     "text": [
      "Enter a number 5\n"
     ]
    },
    {
     "name": "stdout",
     "output_type": "stream",
     "text": [
      "The number is positive\n"
     ]
    }
   ],
   "source": [
    "number = float(input('Enter a number'))\n",
    "if number > 0:\n",
    "     print('The number is positive')\n",
    "elif number == 0:\n",
    "     print('The number is zero')\n",
    "elif number < 0:\n",
    "     print('The number is negative')\n"
   ]
  },
  {
   "cell_type": "code",
   "execution_count": 28,
   "id": "ab2392af-297a-4192-aeb7-f2e67b991948",
   "metadata": {},
   "outputs": [],
   "source": [
    "#Qno.9-(a)"
   ]
  },
  {
   "cell_type": "code",
   "execution_count": 29,
   "id": "a5a5c7f2-1001-4f97-bb25-dba61117d415",
   "metadata": {},
   "outputs": [
    {
     "name": "stdout",
     "output_type": "stream",
     "text": [
      "12.5\n",
      "45.8\n",
      "33.1\n"
     ]
    }
   ],
   "source": [
    "coordinates = (12.5, 45.8, 33.1)\n",
    "(x,y,z) = coordinates\n",
    "print(x)\n",
    "print(y)\n",
    "print(z)\n",
    "\n",
    "#Tuples are use to store fixed data over lists because tuples are immutable and list are mutable data type. "
   ]
  },
  {
   "cell_type": "code",
   "execution_count": 30,
   "id": "0d7db4f6-1002-48a0-b52b-b14fa04bb1b6",
   "metadata": {},
   "outputs": [],
   "source": [
    "#Qno.9-(b)"
   ]
  },
  {
   "cell_type": "code",
   "execution_count": 33,
   "id": "79efad16-6ee9-4d7b-8673-a5def6f13d0a",
   "metadata": {},
   "outputs": [
    {
     "name": "stdout",
     "output_type": "stream",
     "text": [
      "{'Ali': 85, 'Saima': 90, 'Kabeer': 82, 'Ahmed': 92}\n"
     ]
    }
   ],
   "source": [
    "student_scores = {'Ali' : 85 , 'Saima' : 90 , 'Kabeer' : 78}\n",
    "student_scores['Ahmed'] = 92\n",
    "student_scores.update({'Kabeer' : 82})\n",
    "print(student_scores)"
   ]
  },
  {
   "cell_type": "code",
   "execution_count": 47,
   "id": "95560a67-0270-4c60-83db-9a81eba6c795",
   "metadata": {},
   "outputs": [
    {
     "name": "stdout",
     "output_type": "stream",
     "text": [
      "Menu\n",
      "1. Addition\n",
      "2. Subtraction\n",
      "3. Multiplication\n",
      "4. Division\n",
      "5. Exponentiation (Power)\n",
      "6. Square Root\n",
      "7. Exit\n"
     ]
    },
    {
     "name": "stdin",
     "output_type": "stream",
     "text": [
      "Enter your choice (1-7):  5\n",
      "Enter the base number:  4\n",
      "Enter the exponent:  2\n"
     ]
    },
    {
     "name": "stdout",
     "output_type": "stream",
     "text": [
      "Result: 16.0\n",
      "Menu\n",
      "1. Addition\n",
      "2. Subtraction\n",
      "3. Multiplication\n",
      "4. Division\n",
      "5. Exponentiation (Power)\n",
      "6. Square Root\n",
      "7. Exit\n"
     ]
    },
    {
     "name": "stdin",
     "output_type": "stream",
     "text": [
      "Enter your choice (1-7):  5\n",
      "Enter the base number:  25\n",
      "Enter the exponent:  6\n"
     ]
    },
    {
     "name": "stdout",
     "output_type": "stream",
     "text": [
      "Result: 244140625.0\n",
      "Menu\n",
      "1. Addition\n",
      "2. Subtraction\n",
      "3. Multiplication\n",
      "4. Division\n",
      "5. Exponentiation (Power)\n",
      "6. Square Root\n",
      "7. Exit\n"
     ]
    },
    {
     "name": "stdin",
     "output_type": "stream",
     "text": [
      "Enter your choice (1-7):  2\n",
      "Enter first number:  2\n",
      "Enter second number:  2\n"
     ]
    },
    {
     "name": "stdout",
     "output_type": "stream",
     "text": [
      "Result: 0.0\n",
      "Menu\n",
      "1. Addition\n",
      "2. Subtraction\n",
      "3. Multiplication\n",
      "4. Division\n",
      "5. Exponentiation (Power)\n",
      "6. Square Root\n",
      "7. Exit\n"
     ]
    },
    {
     "name": "stdin",
     "output_type": "stream",
     "text": [
      "Enter your choice (1-7):  1\n",
      "Enter first number:  2\n",
      "Enter second number:  3\n"
     ]
    },
    {
     "name": "stdout",
     "output_type": "stream",
     "text": [
      "Result: 5.0\n",
      "Menu\n",
      "1. Addition\n",
      "2. Subtraction\n",
      "3. Multiplication\n",
      "4. Division\n",
      "5. Exponentiation (Power)\n",
      "6. Square Root\n",
      "7. Exit\n"
     ]
    },
    {
     "ename": "KeyboardInterrupt",
     "evalue": "Interrupted by user",
     "output_type": "error",
     "traceback": [
      "\u001b[1;31m---------------------------------------------------------------------------\u001b[0m",
      "\u001b[1;31mKeyboardInterrupt\u001b[0m                         Traceback (most recent call last)",
      "Cell \u001b[1;32mIn[47], line 14\u001b[0m\n\u001b[0;32m     10\u001b[0m \u001b[38;5;28mprint\u001b[39m(\u001b[38;5;124m\"\u001b[39m\u001b[38;5;124m6. Square Root\u001b[39m\u001b[38;5;124m\"\u001b[39m)\n\u001b[0;32m     11\u001b[0m \u001b[38;5;28mprint\u001b[39m(\u001b[38;5;124m\"\u001b[39m\u001b[38;5;124m7. Exit\u001b[39m\u001b[38;5;124m\"\u001b[39m)\n\u001b[1;32m---> 14\u001b[0m choice \u001b[38;5;241m=\u001b[39m \u001b[38;5;28minput\u001b[39m(\u001b[38;5;124m\"\u001b[39m\u001b[38;5;124mEnter your choice (1-7): \u001b[39m\u001b[38;5;124m\"\u001b[39m)\n\u001b[0;32m     16\u001b[0m \u001b[38;5;28;01mif\u001b[39;00m choice \u001b[38;5;241m==\u001b[39m \u001b[38;5;124m'\u001b[39m\u001b[38;5;124m1\u001b[39m\u001b[38;5;124m'\u001b[39m:  \u001b[38;5;66;03m# Addition\u001b[39;00m\n\u001b[0;32m     17\u001b[0m     num1 \u001b[38;5;241m=\u001b[39m \u001b[38;5;28mfloat\u001b[39m(\u001b[38;5;28minput\u001b[39m(\u001b[38;5;124m\"\u001b[39m\u001b[38;5;124mEnter first number: \u001b[39m\u001b[38;5;124m\"\u001b[39m))\n",
      "File \u001b[1;32m~\\anaconda3\\Lib\\site-packages\\ipykernel\\kernelbase.py:1262\u001b[0m, in \u001b[0;36mKernel.raw_input\u001b[1;34m(self, prompt)\u001b[0m\n\u001b[0;32m   1260\u001b[0m     msg \u001b[38;5;241m=\u001b[39m \u001b[38;5;124m\"\u001b[39m\u001b[38;5;124mraw_input was called, but this frontend does not support input requests.\u001b[39m\u001b[38;5;124m\"\u001b[39m\n\u001b[0;32m   1261\u001b[0m     \u001b[38;5;28;01mraise\u001b[39;00m StdinNotImplementedError(msg)\n\u001b[1;32m-> 1262\u001b[0m \u001b[38;5;28;01mreturn\u001b[39;00m \u001b[38;5;28mself\u001b[39m\u001b[38;5;241m.\u001b[39m_input_request(\n\u001b[0;32m   1263\u001b[0m     \u001b[38;5;28mstr\u001b[39m(prompt),\n\u001b[0;32m   1264\u001b[0m     \u001b[38;5;28mself\u001b[39m\u001b[38;5;241m.\u001b[39m_parent_ident[\u001b[38;5;124m\"\u001b[39m\u001b[38;5;124mshell\u001b[39m\u001b[38;5;124m\"\u001b[39m],\n\u001b[0;32m   1265\u001b[0m     \u001b[38;5;28mself\u001b[39m\u001b[38;5;241m.\u001b[39mget_parent(\u001b[38;5;124m\"\u001b[39m\u001b[38;5;124mshell\u001b[39m\u001b[38;5;124m\"\u001b[39m),\n\u001b[0;32m   1266\u001b[0m     password\u001b[38;5;241m=\u001b[39m\u001b[38;5;28;01mFalse\u001b[39;00m,\n\u001b[0;32m   1267\u001b[0m )\n",
      "File \u001b[1;32m~\\anaconda3\\Lib\\site-packages\\ipykernel\\kernelbase.py:1305\u001b[0m, in \u001b[0;36mKernel._input_request\u001b[1;34m(self, prompt, ident, parent, password)\u001b[0m\n\u001b[0;32m   1302\u001b[0m \u001b[38;5;28;01mexcept\u001b[39;00m \u001b[38;5;167;01mKeyboardInterrupt\u001b[39;00m:\n\u001b[0;32m   1303\u001b[0m     \u001b[38;5;66;03m# re-raise KeyboardInterrupt, to truncate traceback\u001b[39;00m\n\u001b[0;32m   1304\u001b[0m     msg \u001b[38;5;241m=\u001b[39m \u001b[38;5;124m\"\u001b[39m\u001b[38;5;124mInterrupted by user\u001b[39m\u001b[38;5;124m\"\u001b[39m\n\u001b[1;32m-> 1305\u001b[0m     \u001b[38;5;28;01mraise\u001b[39;00m \u001b[38;5;167;01mKeyboardInterrupt\u001b[39;00m(msg) \u001b[38;5;28;01mfrom\u001b[39;00m \u001b[38;5;28;01mNone\u001b[39;00m\n\u001b[0;32m   1306\u001b[0m \u001b[38;5;28;01mexcept\u001b[39;00m \u001b[38;5;167;01mException\u001b[39;00m:\n\u001b[0;32m   1307\u001b[0m     \u001b[38;5;28mself\u001b[39m\u001b[38;5;241m.\u001b[39mlog\u001b[38;5;241m.\u001b[39mwarning(\u001b[38;5;124m\"\u001b[39m\u001b[38;5;124mInvalid Message:\u001b[39m\u001b[38;5;124m\"\u001b[39m, exc_info\u001b[38;5;241m=\u001b[39m\u001b[38;5;28;01mTrue\u001b[39;00m)\n",
      "\u001b[1;31mKeyboardInterrupt\u001b[0m: Interrupted by user"
     ]
    }
   ],
   "source": [
    "##### import math\n",
    "\n",
    "while True:\n",
    "    print('Menu')\n",
    "    print(\"1. Addition\")\n",
    "    print(\"2. Subtraction\")\n",
    "    print(\"3. Multiplication\")\n",
    "    print(\"4. Division\")\n",
    "    print(\"5. Exponentiation (Power)\")\n",
    "    print(\"6. Square Root\")\n",
    "    print(\"7. Exit\")\n",
    "    \n",
    "    \n",
    "    number = input(\"Enter your choice (1-7): \")\n",
    "\n",
    "    if number == '1': \n",
    "        num1 = float(input(\"Enter first number: \"))\n",
    "        num2 = float(input(\"Enter second number: \"))\n",
    "        print(\"Result:\", num1 + num2)\n",
    "\n",
    "    elif number == '2': \n",
    "        num1 = float(input(\"Enter first number: \"))\n",
    "        num2 = float(input(\"Enter second number: \"))\n",
    "        print(\"Result:\", num1 - num2)\n",
    "\n",
    "    elif choice == '3':  \n",
    "        num1 = float(input(\"Enter first number: \"))\n",
    "        num2 = float(input(\"Enter second number: \"))\n",
    "        print(\"Result:\", num1 * num2)\n",
    "\n",
    "    elif choice == '4': \n",
    "        num1 = float(input('Enter numerator: '))\n",
    "        num2 = float(input('Enter denominator: '))\n",
    "        if num2 == 0:\n",
    "            print('Error!')\n",
    "        else:\n",
    "            print('Result:', num1 / num2)\n",
    "\n",
    "    elif choice == '5':  \n",
    "        base = float(input('Enter the base number: '))\n",
    "        exponent = float(input(\"Enter the exponent: \"))\n",
    "        print(\"Result:\", base ** exponent)\n",
    "\n",
    "    elif choice == '6':  \n",
    "        num = float(input('Enter a number: '))\n",
    "        if num < 0:\n",
    "            print('Error!')\n",
    "        else:\n",
    "            print('Result:', math.sqrt(num))\n",
    "\n",
    "    elif choice == '7':  \n",
    "        print('Exiting the program.')\n",
    "        break\n",
    "\n",
    "    else:\n",
    "        print('Invalid choice!')"
   ]
  },
  {
   "cell_type": "code",
   "execution_count": 43,
   "id": "801961bb-eb7d-4e9e-ab52-221c50f8f5f8",
   "metadata": {},
   "outputs": [],
   "source": [
    "#Qno. 8"
   ]
  },
  {
   "cell_type": "code",
   "execution_count": 50,
   "id": "1cfcf9dd-9227-47c5-8de5-dbb30e989c7e",
   "metadata": {},
   "outputs": [
    {
     "name": "stdin",
     "output_type": "stream",
     "text": [
      "Enter your email address:  saad\n",
      "Enter your password:  sa\n"
     ]
    },
    {
     "name": "stdout",
     "output_type": "stream",
     "text": [
      "Invalid credentials. Try again.\n"
     ]
    },
    {
     "name": "stdin",
     "output_type": "stream",
     "text": [
      "Enter your email address:  asd\n",
      "Enter your password:  as\n"
     ]
    },
    {
     "name": "stdout",
     "output_type": "stream",
     "text": [
      "Login Failed\n"
     ]
    }
   ],
   "source": [
    "username = 'ahmed@gmail.com'\n",
    "password_stored = 'ahmed@321'\n",
    "user_name = input('Enter your email address: ')\n",
    "password = input('Enter your password: ')\n",
    "\n",
    "if user_name == username and password == password_stored:\n",
    "    print('WELCOME')\n",
    "else:\n",
    "    print('Invalid credentials. Try again.')\n",
    "    user_name = input('Enter your email address: ')\n",
    "    password = input('Enter your password: ')\n",
    "    \n",
    "    if user_name == username and password == password_stored:\n",
    "        print('WELCOME')\n",
    "    else:\n",
    "        print('Login Failed')"
   ]
  },
  {
   "cell_type": "code",
   "execution_count": null,
   "id": "e7c068be-0020-4167-a979-4f611fc30388",
   "metadata": {},
   "outputs": [],
   "source": []
  }
 ],
 "metadata": {
  "kernelspec": {
   "display_name": "Python 3 (ipykernel)",
   "language": "python",
   "name": "python3"
  },
  "language_info": {
   "codemirror_mode": {
    "name": "ipython",
    "version": 3
   },
   "file_extension": ".py",
   "mimetype": "text/x-python",
   "name": "python",
   "nbconvert_exporter": "python",
   "pygments_lexer": "ipython3",
   "version": "3.12.4"
  }
 },
 "nbformat": 4,
 "nbformat_minor": 5
}
