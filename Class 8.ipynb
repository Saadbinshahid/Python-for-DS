{
 "cells": [
  {
   "cell_type": "code",
   "execution_count": 1,
   "id": "b5fa997e-f112-423a-8cde-735df8ddd434",
   "metadata": {},
   "outputs": [
    {
     "name": "stdin",
     "output_type": "stream",
     "text": [
      "Enter the name: saad\n"
     ]
    },
    {
     "name": "stdout",
     "output_type": "stream",
     "text": [
      "Short Name\n"
     ]
    }
   ],
   "source": [
    "name = input('Enter the name:')\n",
    "if len(name) > 10:\n",
    "    print('You have big name')\n",
    "elif len(name) ==8:\n",
    "    print('Nice Name')\n",
    "else:\n",
    "    print('Short Name')\n"
   ]
  },
  {
   "cell_type": "code",
   "execution_count": 2,
   "id": "efd26ea7-b322-419c-be25-36be2ee87944",
   "metadata": {},
   "outputs": [
    {
     "name": "stdin",
     "output_type": "stream",
     "text": [
      "Enter the first number 01\n",
      "Enter the second number 1\n",
      "Enter the thirf number 12\n"
     ]
    },
    {
     "name": "stdout",
     "output_type": "stream",
     "text": [
      "number 3 is greater 12\n"
     ]
    }
   ],
   "source": [
    "number_1 = int(input('Enter the first number'))\n",
    "number_2 = int(input('Enter the second number'))\n",
    "number_3 = int(input('Enter the thirf number'))\n",
    "if number_1 > number_2 and number_1 > number_3:\n",
    "               print('Number 1 is greatest',number_1)\n",
    "elif number_2 > number_3:\n",
    "               print('number 2 is greatest' , number_2)\n",
    "else:\n",
    "               print('number 3 is greater', number_3)\n"
   ]
  },
  {
   "cell_type": "code",
   "execution_count": 3,
   "id": "ce73090d-37a4-48ac-937b-fec69106be67",
   "metadata": {},
   "outputs": [
    {
     "name": "stdin",
     "output_type": "stream",
     "text": [
      "Enter the first number 4\n"
     ]
    },
    {
     "name": "stdout",
     "output_type": "stream",
     "text": [
      "Number 1 is positive 4\n"
     ]
    }
   ],
   "source": [
    "number_1 = int(input('Enter the first number'))\n",
    "if number_1 > 0:\n",
    "               print('Number 1 is positive',number_1)\n",
    "elif number_1 == 0:\n",
    "               print('number 1 is zero' , number_1)\n",
    "else:\n",
    "               print('number 1 is negative', number_1)"
   ]
  },
  {
   "cell_type": "code",
   "execution_count": 4,
   "id": "3bf65566-09aa-42a4-9722-8f3623e2e5d3",
   "metadata": {},
   "outputs": [
    {
     "name": "stdin",
     "output_type": "stream",
     "text": [
      "Enter the first number 5\n"
     ]
    },
    {
     "name": "stdout",
     "output_type": "stream",
     "text": [
      "Entered value is invalid 5\n"
     ]
    }
   ],
   "source": [
    "number_1 = (input('Enter the first number'))\n",
    "if type(number_1) == int:\n",
    "               print('Number 1 is integer',number_1)\n",
    "elif type(number_1) == str:\n",
    "               print('Entered value is invalid' , number_1)"
   ]
  },
  {
   "cell_type": "code",
   "execution_count": 19,
   "id": "9d708442-2bab-43fa-aebb-73e4933ae615",
   "metadata": {},
   "outputs": [
    {
     "name": "stdin",
     "output_type": "stream",
     "text": [
      "Enter the first number -25\n"
     ]
    },
    {
     "name": "stdout",
     "output_type": "stream",
     "text": [
      "number 1 is negative -25.0\n"
     ]
    }
   ],
   "source": [
    "number_1 = (input('Enter the first number'))\n",
    "if number_1.replace('.','').replace('-','').replace('+','').isdigit():\n",
    "                num = float(number_1)\n",
    "                if num > 0:\n",
    "                    print('Number 1 is positive',num)\n",
    "                elif num == 0:\n",
    "                    print('number 1 is zero' , num)\n",
    "                else:\n",
    "                    print('number 1 is negative',num)\n",
    "else: \n",
    "    print('Enter a valid number')"
   ]
  },
  {
   "cell_type": "code",
   "execution_count": 23,
   "id": "3ef78517-d8a9-464a-96d0-48dd79fe0af6",
   "metadata": {},
   "outputs": [
    {
     "name": "stdin",
     "output_type": "stream",
     "text": [
      "Enter the username: saad\n",
      "Enter the password 123\n"
     ]
    },
    {
     "name": "stdout",
     "output_type": "stream",
     "text": [
      "Welcome Home\n"
     ]
    }
   ],
   "source": [
    "username = str(input('Enter the username:'))\n",
    "password = input('Enter the password')\n",
    "\n",
    "if username == 'saad' and password == '123':\n",
    "    print('Welcome Home')\n",
    "else:\n",
    "    print('Invalid credientials')\n"
   ]
  },
  {
   "cell_type": "code",
   "execution_count": null,
   "id": "0c408611-fd22-49ad-910d-721765401a5c",
   "metadata": {},
   "outputs": [],
   "source": []
  },
  {
   "cell_type": "code",
   "execution_count": null,
   "id": "22c5871c-5537-4cca-927c-3000abfaf12b",
   "metadata": {},
   "outputs": [],
   "source": []
  },
  {
   "cell_type": "code",
   "execution_count": null,
   "id": "5ae8854c-4e4b-4079-b0e1-7e9e84104476",
   "metadata": {},
   "outputs": [],
   "source": []
  }
 ],
 "metadata": {
  "kernelspec": {
   "display_name": "Python 3 (ipykernel)",
   "language": "python",
   "name": "python3"
  },
  "language_info": {
   "codemirror_mode": {
    "name": "ipython",
    "version": 3
   },
   "file_extension": ".py",
   "mimetype": "text/x-python",
   "name": "python",
   "nbconvert_exporter": "python",
   "pygments_lexer": "ipython3",
   "version": "3.12.4"
  }
 },
 "nbformat": 4,
 "nbformat_minor": 5
}
