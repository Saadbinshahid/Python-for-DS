{
 "cells": [
  {
   "cell_type": "code",
   "execution_count": 11,
   "id": "4071bac8-d4d1-4e63-8cc2-a613ec94d793",
   "metadata": {},
   "outputs": [
    {
     "name": "stdin",
     "output_type": "stream",
     "text": [
      "Enter your first number 45\n",
      "Enter your secone number 85\n"
     ]
    },
    {
     "name": "stdout",
     "output_type": "stream",
     "text": [
      "130.0\n",
      "-40.0\n",
      "3825.0\n",
      "0.529\n"
     ]
    }
   ],
   "source": [
    "def addition(num1,num2):\n",
    "    return num1+num2\n",
    "def subtraction(num1,num2):\n",
    "    return num1-num2\n",
    "def multiply(num1,num2):\n",
    "    return num1*num2\n",
    "def division (num1,num2):\n",
    "    return round(num1/num2,3)\n",
    "    \n",
    "num1=float(input('Enter your first number'))\n",
    "num2=float(input('Enter your secone number'))\n",
    "\n",
    "print(addition(num1,num2))\n",
    "print(subtraction(num1,num2))\n",
    "print(multiply(num1,num2))\n",
    "print(division (num1,num2))"
   ]
  },
  {
   "cell_type": "code",
   "execution_count": 12,
   "id": "2fa1162e-3ea7-47b6-ac7e-b4959133a821",
   "metadata": {},
   "outputs": [],
   "source": [
    "#Scope of Variable"
   ]
  },
  {
   "cell_type": "code",
   "execution_count": 13,
   "id": "9d7fa977-14aa-4245-a48d-dc8f575c2de6",
   "metadata": {},
   "outputs": [
    {
     "name": "stdout",
     "output_type": "stream",
     "text": [
      "2\n",
      "5\n"
     ]
    }
   ],
   "source": [
    "def f(y):\n",
    "    x=1\n",
    "    x +=1\n",
    "    print(x)\n",
    "x = 5\n",
    "f(x)\n",
    "print(x)\n",
    "    "
   ]
  },
  {
   "cell_type": "code",
   "execution_count": 17,
   "id": "5f7a6a63-d5aa-436a-a66b-0f3d35a7f157",
   "metadata": {},
   "outputs": [
    {
     "name": "stdout",
     "output_type": "stream",
     "text": [
      "2\n",
      "5\n"
     ]
    }
   ],
   "source": [
    "def f(y): #local variable\n",
    "    y=1\n",
    "    y +=1\n",
    "    print(y)\n",
    "x = 5 #global variable\n",
    "f(x)\n",
    "print(x)"
   ]
  },
  {
   "cell_type": "code",
   "execution_count": 25,
   "id": "ddec7f7b-0c70-4e72-a284-8bf7a3314b62",
   "metadata": {},
   "outputs": [
    {
     "ename": "UnboundLocalError",
     "evalue": "cannot access local variable 'x' where it is not associated with a value",
     "output_type": "error",
     "traceback": [
      "\u001b[1;31m---------------------------------------------------------------------------\u001b[0m",
      "\u001b[1;31mUnboundLocalError\u001b[0m                         Traceback (most recent call last)",
      "Cell \u001b[1;32mIn[25], line 4\u001b[0m\n\u001b[0;32m      2\u001b[0m     x\u001b[38;5;241m+\u001b[39m\u001b[38;5;241m=\u001b[39m\u001b[38;5;241m1\u001b[39m\n\u001b[0;32m      3\u001b[0m x\u001b[38;5;241m=\u001b[39m\u001b[38;5;241m5\u001b[39m\n\u001b[1;32m----> 4\u001b[0m h(x)\n\u001b[0;32m      5\u001b[0m \u001b[38;5;28mprint\u001b[39m(x)\n",
      "Cell \u001b[1;32mIn[25], line 2\u001b[0m, in \u001b[0;36mh\u001b[1;34m(y)\u001b[0m\n\u001b[0;32m      1\u001b[0m \u001b[38;5;28;01mdef\u001b[39;00m \u001b[38;5;21mh\u001b[39m(y):\n\u001b[1;32m----> 2\u001b[0m     x\u001b[38;5;241m+\u001b[39m\u001b[38;5;241m=\u001b[39m\u001b[38;5;241m1\u001b[39m\n",
      "\u001b[1;31mUnboundLocalError\u001b[0m: cannot access local variable 'x' where it is not associated with a value"
     ]
    }
   ],
   "source": [
    "def h(y):\n",
    "    x+=1\n",
    "x=5\n",
    "h(x)\n",
    "print(x)"
   ]
  },
  {
   "cell_type": "code",
   "execution_count": 26,
   "id": "7ee366e9-8814-4891-afc9-7db506492584",
   "metadata": {},
   "outputs": [
    {
     "name": "stdout",
     "output_type": "stream",
     "text": [
      "4\n",
      "4\n",
      "3\n"
     ]
    }
   ],
   "source": [
    "def f(x):\n",
    "    x =x+1\n",
    "    print(x)\n",
    "    return x\n",
    "x=3\n",
    "z=f(x)\n",
    "print(z)\n",
    "print(x)\n",
    "    "
   ]
  },
  {
   "cell_type": "code",
   "execution_count": 27,
   "id": "fee8324b-3ef1-43dd-9ddf-43f9bfd9da6c",
   "metadata": {},
   "outputs": [
    {
     "name": "stdout",
     "output_type": "stream",
     "text": [
      "4\n",
      "None\n",
      "3\n"
     ]
    }
   ],
   "source": [
    "def f(x):\n",
    "    x =x+1\n",
    "    print(x)\n",
    "x=3\n",
    "z=f(x)\n",
    "print(z)\n",
    "print(x)\n",
    "    "
   ]
  },
  {
   "cell_type": "code",
   "execution_count": 28,
   "id": "1c8150a5-bf59-4721-a3b9-9c8f14886ce3",
   "metadata": {},
   "outputs": [],
   "source": [
    "#nested fuctions"
   ]
  },
  {
   "cell_type": "code",
   "execution_count": 30,
   "id": "6714c8a7-7e8b-46a7-b3b9-cab1dae811ba",
   "metadata": {},
   "outputs": [
    {
     "name": "stdout",
     "output_type": "stream",
     "text": [
      "Function1\n",
      "Function2\n"
     ]
    }
   ],
   "source": [
    "def function1():\n",
    "    print('Function1')\n",
    "    def function2():\n",
    "        print('Function2')\n",
    "    function2()\n",
    "function1()"
   ]
  },
  {
   "cell_type": "code",
   "execution_count": 43,
   "id": "200e31bd-fb82-4e17-9234-b85d80f95050",
   "metadata": {},
   "outputs": [
    {
     "name": "stdout",
     "output_type": "stream",
     "text": [
      "50\n"
     ]
    }
   ],
   "source": [
    "def num1(x):\n",
    "    def num2(y):\n",
    "        return x * y\n",
    "    return num2\n",
    "res = num1(10)\n",
    "print(res(5))"
   ]
  },
  {
   "cell_type": "code",
   "execution_count": 45,
   "id": "9d1fad8a-8201-4dbc-92e0-369853226350",
   "metadata": {},
   "outputs": [
    {
     "name": "stdout",
     "output_type": "stream",
     "text": [
      "8\n"
     ]
    }
   ],
   "source": [
    "def power1(x):\n",
    "    def power2(y):\n",
    "        return x**y\n",
    "    return power2\n",
    "res = power1(2)\n",
    "print(res(3))\n",
    "         \n"
   ]
  },
  {
   "cell_type": "code",
   "execution_count": 56,
   "id": "ed50961f-c700-4b53-890f-0c751c09661f",
   "metadata": {},
   "outputs": [
    {
     "name": "stdout",
     "output_type": "stream",
     "text": [
      "<function num1.<locals>.num2 at 0x0000028CA1247240>\n",
      "250\n"
     ]
    }
   ],
   "source": [
    "def num1(x):\n",
    "  def num2(y):\n",
    "    def num3(z):\n",
    "      return x * y *z\n",
    "    return num3\n",
    "  return num2  \n",
    "\n",
    "res = num1(10)\n",
    "print(res)\n",
    "res1 = res(5)\n",
    "print(res1(5))"
   ]
  },
  {
   "cell_type": "code",
   "execution_count": 59,
   "id": "f4a747ab-cfc8-4442-b74f-000996be81ca",
   "metadata": {},
   "outputs": [],
   "source": [
    "def name1(x):\n",
    "  def name2(y):\n",
    "    def name3(z):\n",
    "      return x+y+z;\n",
    "    return name3;\n",
    "  return name2;   \n",
    "\n",
    "x='Saad'\n",
    "y='Bin'\n",
    "z='Shahid'"
   ]
  },
  {
   "cell_type": "code",
   "execution_count": 61,
   "id": "6ec46dee-3108-4ba8-aecc-9248ae67447a",
   "metadata": {},
   "outputs": [
    {
     "name": "stdout",
     "output_type": "stream",
     "text": [
      "SaadBinShahid\n"
     ]
    }
   ],
   "source": [
    "def fname(name1):\n",
    "    def mname(name2):\n",
    "        def lname(name3):\n",
    "            return name1 + name2 + name3\n",
    "        return lname\n",
    "    return mname\n",
    "fullname = fname('Saad')\n",
    "middlename = fullname('Bin')\n",
    "print(middlename ('Shahid'))\n",
    "            "
   ]
  },
  {
   "cell_type": "code",
   "execution_count": null,
   "id": "1d83cdc3-7aa4-4c69-9891-06cf551e7472",
   "metadata": {},
   "outputs": [],
   "source": []
  }
 ],
 "metadata": {
  "kernelspec": {
   "display_name": "Python 3 (ipykernel)",
   "language": "python",
   "name": "python3"
  },
  "language_info": {
   "codemirror_mode": {
    "name": "ipython",
    "version": 3
   },
   "file_extension": ".py",
   "mimetype": "text/x-python",
   "name": "python",
   "nbconvert_exporter": "python",
   "pygments_lexer": "ipython3",
   "version": "3.12.4"
  }
 },
 "nbformat": 4,
 "nbformat_minor": 5
}
