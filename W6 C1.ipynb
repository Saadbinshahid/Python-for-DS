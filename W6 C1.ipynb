{
 "cells": [
  {
   "cell_type": "code",
   "execution_count": 3,
   "id": "89cbff15-4f1d-4947-8b5e-ae1eba570817",
   "metadata": {},
   "outputs": [
    {
     "name": "stdout",
     "output_type": "stream",
     "text": [
      "enter a valid number\n"
     ]
    }
   ],
   "source": [
    " a = ['banana' , 'grapes' , 'cow' , ['melon','kiwi','saad']]\n",
    "if 'banana' in a[3]:\n",
    "    print ('your list is')\n",
    "else:\n",
    "    print('enter a valid number')\n"
   ]
  },
  {
   "cell_type": "code",
   "execution_count": 15,
   "id": "a7a6acca-c0ed-4aa4-9373-8770881131b0",
   "metadata": {},
   "outputs": [
    {
     "name": "stdout",
     "output_type": "stream",
     "text": [
      "['melon', 'kiwi', 'saad']\n",
      "cow\n",
      "grapes\n",
      "banana\n"
     ]
    }
   ],
   "source": [
    " a = ['banana' , 'grapes' , 'cow' , ['melon','kiwi','saad']]\n",
    "n = len(a)\n",
    "for i in range(n,0,-1):\n",
    "    print(a[i-1])\n"
   ]
  },
  {
   "cell_type": "code",
   "execution_count": 12,
   "id": "5b2eaf48-acf5-4759-8756-af6220c60ec4",
   "metadata": {},
   "outputs": [
    {
     "name": "stdout",
     "output_type": "stream",
     "text": [
      "['banan', 'tomato', 23]\n",
      "12\n",
      "onion\n",
      "apple\n"
     ]
    }
   ],
   "source": [
    "list=['apple','onion',12,['banan','tomato',23]]\n",
    "n=len(list)\n",
    "for i in range(n,0,-1):\n",
    "    print(list[i-1])"
   ]
  },
  {
   "cell_type": "code",
   "execution_count": 21,
   "id": "33caaf04-6ad3-4ece-8b0e-b3acdcae8679",
   "metadata": {},
   "outputs": [
    {
     "name": "stdin",
     "output_type": "stream",
     "text": [
      "Enter number of row 5\n"
     ]
    },
    {
     "name": "stdout",
     "output_type": "stream",
     "text": [
      "1\n",
      "121\n",
      "12321\n",
      "1234321\n",
      "123454321\n"
     ]
    }
   ],
   "source": [
    "rows = int(input('Enter number of row'))\n",
    "for i in range(1,rows+1):\n",
    "    for j in range(1,i+1):\n",
    "        print(j,end='')\n",
    "    for k in range(i-1,0,-1): #patterns\n",
    "        print(k,end='')\n",
    "    \n",
    "    print()"
   ]
  },
  {
   "cell_type": "code",
   "execution_count": 22,
   "id": "905ade5d-21c4-4dbd-b6f6-34a6a0f5b453",
   "metadata": {},
   "outputs": [],
   "source": [
    "#Python Functions"
   ]
  },
  {
   "cell_type": "code",
   "execution_count": 23,
   "id": "238d035f-a3ed-42e9-a2cf-6ad57b0952e6",
   "metadata": {},
   "outputs": [],
   "source": [
    "def welcome():\n",
    "    print('Saad')"
   ]
  },
  {
   "cell_type": "code",
   "execution_count": 24,
   "id": "72e59901-591d-42b7-8c2c-fcd40adc68b1",
   "metadata": {},
   "outputs": [
    {
     "name": "stdout",
     "output_type": "stream",
     "text": [
      "Saad\n"
     ]
    }
   ],
   "source": [
    "welcome()\n"
   ]
  },
  {
   "cell_type": "code",
   "execution_count": 30,
   "id": "096b47a5-4699-4b8c-8892-c8c340576350",
   "metadata": {},
   "outputs": [
    {
     "ename": "SyntaxError",
     "evalue": "unterminated string literal (detected at line 2) (4219157536.py, line 2)",
     "output_type": "error",
     "traceback": [
      "\u001b[1;36m  Cell \u001b[1;32mIn[30], line 2\u001b[1;36m\u001b[0m\n\u001b[1;33m    print('Saad', name, 'exit)\u001b[0m\n\u001b[1;37m                        ^\u001b[0m\n\u001b[1;31mSyntaxError\u001b[0m\u001b[1;31m:\u001b[0m unterminated string literal (detected at line 2)\n"
     ]
    }
   ],
   "source": [
    "def welcome(name):\n",
    "    print('Saad', name, 'exit)\n",
    "welcome('farooq')\n",
    "          "
   ]
  },
  {
   "cell_type": "code",
   "execution_count": 6,
   "id": "14ec5052-17b3-4055-8d03-49e1550b394a",
   "metadata": {},
   "outputs": [
    {
     "name": "stdin",
     "output_type": "stream",
     "text": [
      "Enter number: 5\n",
      "Enter number2: 5\n"
     ]
    },
    {
     "name": "stdout",
     "output_type": "stream",
     "text": [
      "number 1: 5.0\n",
      "number 2: 5.0\n",
      "number 1: 5.0\n",
      "number 2: 5.0\n"
     ]
    },
    {
     "data": {
      "text/plain": [
       "10.0"
      ]
     },
     "execution_count": 6,
     "metadata": {},
     "output_type": "execute_result"
    }
   ],
   "source": [
    "def add(num1,num2):\n",
    "    print(\"number 1:\" ,num1)\n",
    "    print(\"number 2:\",num2)\n",
    "    addition = num1 + num2\n",
    "    return addition \n",
    "num1 = float(input('Enter number:'))\n",
    "num2 = float(input('Enter number2:'))\n",
    "\n",
    "a = add(num1,num2)\n",
    "add(num1,num2)\n",
    "\n",
    "    "
   ]
  },
  {
   "cell_type": "code",
   "execution_count": 7,
   "id": "7674575f-ff8c-47c7-a283-967b42c2433a",
   "metadata": {},
   "outputs": [
    {
     "name": "stdin",
     "output_type": "stream",
     "text": [
      "Enter your number 5\n"
     ]
    },
    {
     "name": "stdout",
     "output_type": "stream",
     "text": [
      "This is an odd number\n"
     ]
    }
   ],
   "source": [
    "def even(num):\n",
    "    if num%2==0:\n",
    "        print('This is an even number')\n",
    "    else:\n",
    "        print('This is an odd number')\n",
    "num = int(input('Enter your number'))\n",
    "even(num)\n",
    "    "
   ]
  },
  {
   "cell_type": "code",
   "execution_count": 20,
   "id": "c89074b2-306b-462f-8115-6f72b70d5127",
   "metadata": {},
   "outputs": [
    {
     "name": "stdin",
     "output_type": "stream",
     "text": [
      "Enter radius of circle 1\n"
     ]
    },
    {
     "data": {
      "text/plain": [
       "(3.14, 6.28)"
      ]
     },
     "execution_count": 20,
     "metadata": {},
     "output_type": "execute_result"
    }
   ],
   "source": [
    "def area_of_circle(r): # function define (local variable)\n",
    "    formula = 3.14 * r**2\n",
    "    circumference = 2*3.14*r\n",
    "    return formula , circumference #calling to print\n",
    "radius = float(input('Enter radius of circle')) # global variable\n",
    "area_of_circle(radius) # calling function, global variable. \n",
    "\n",
    "\n"
   ]
  },
  {
   "cell_type": "code",
   "execution_count": null,
   "id": "d430bd61-0753-438a-bf32-f3525a8a1902",
   "metadata": {},
   "outputs": [],
   "source": []
  }
 ],
 "metadata": {
  "kernelspec": {
   "display_name": "Python 3 (ipykernel)",
   "language": "python",
   "name": "python3"
  },
  "language_info": {
   "codemirror_mode": {
    "name": "ipython",
    "version": 3
   },
   "file_extension": ".py",
   "mimetype": "text/x-python",
   "name": "python",
   "nbconvert_exporter": "python",
   "pygments_lexer": "ipython3",
   "version": "3.12.4"
  }
 },
 "nbformat": 4,
 "nbformat_minor": 5
}
