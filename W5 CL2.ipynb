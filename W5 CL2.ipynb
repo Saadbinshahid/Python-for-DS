{
 "cells": [
  {
   "cell_type": "code",
   "execution_count": 1,
   "id": "966762f5-3add-4f15-ad95-4509954e3a39",
   "metadata": {},
   "outputs": [],
   "source": [
    "#Guess Game"
   ]
  },
  {
   "cell_type": "code",
   "execution_count": 5,
   "id": "225860ab-0474-4f26-a845-b55726e0a86a",
   "metadata": {},
   "outputs": [
    {
     "name": "stdout",
     "output_type": "stream",
     "text": [
      "16\n"
     ]
    },
    {
     "name": "stdin",
     "output_type": "stream",
     "text": [
      "Enter you number 16\n"
     ]
    },
    {
     "name": "stdout",
     "output_type": "stream",
     "text": [
      "Correct Guess\n",
      "Number of guess 1\n"
     ]
    }
   ],
   "source": [
    "import random\n",
    "jackpot = random.randint(1,100)\n",
    "print(jackpot)\n",
    "guess_num = int(input('Enter you number'))\n",
    "counter = 1\n",
    "while guess_num != jackpot:\n",
    "    if guess_num < jackpot:\n",
    "        print('Number is Lower')\n",
    "    else:\n",
    "        print('Number is Higher')\n",
    "        guess_num = int(input('Enter you number'))\n",
    "        counter = counter + 1\n",
    "else:\n",
    "    print('Correct Guess')\n",
    "    print('Number of guess', counter)\n",
    "        \n"
   ]
  },
  {
   "cell_type": "code",
   "execution_count": 7,
   "id": "c32da763-078f-4bf3-8224-35c77e970253",
   "metadata": {},
   "outputs": [
    {
     "name": "stdout",
     "output_type": "stream",
     "text": [
      "1\n",
      "2\n",
      "3\n",
      "4\n"
     ]
    }
   ],
   "source": [
    "for num in range(1,5):\n",
    "    print(num)"
   ]
  },
  {
   "cell_type": "code",
   "execution_count": 8,
   "id": "a65845e8-be0c-4977-b7c8-43ebfed6cfde",
   "metadata": {},
   "outputs": [
    {
     "name": "stdout",
     "output_type": "stream",
     "text": [
      "banana\n",
      "grapes\n",
      "kiwi\n"
     ]
    }
   ],
   "source": [
    "fruits = ['banana' , 'grapes' , 'kiwi']\n",
    "t = 'Ahmed'\n",
    "for num in fruits:\n",
    "    print(num)"
   ]
  },
  {
   "cell_type": "code",
   "execution_count": 14,
   "id": "bce6d6e4-1f26-4955-9c99-0b2d927f40f5",
   "metadata": {},
   "outputs": [
    {
     "name": "stdout",
     "output_type": "stream",
     "text": [
      "('Name', 'Saad')\n",
      "('Age', 26)\n",
      "('Occupation', ['Engineer', 'Data analyst'])\n"
     ]
    }
   ],
   "source": [
    "dic = {\n",
    "    'Name' : 'Saad',\n",
    "    'Age' : 26 , \n",
    "    'Occupation' : ['Engineer', 'Data analyst'],\n",
    "}\n",
    "for num in dic.items(): # all items of dictionary, also i can use keys command\n",
    "    print(num)\n",
    "    "
   ]
  },
  {
   "cell_type": "code",
   "execution_count": 19,
   "id": "ad629d13-10a1-4389-978b-e0659e3dfd7b",
   "metadata": {},
   "outputs": [
    {
     "name": "stdout",
     "output_type": "stream",
     "text": [
      "10 10000\n",
      "9 9091\n",
      "8 8265\n",
      "7 7514\n",
      "6 6831\n",
      "5 6210\n",
      "4 5645\n",
      "3 5132\n",
      "2 4665\n",
      "1 4241\n"
     ]
    }
   ],
   "source": [
    "population = 10000\n",
    "for year in range(10,0,-1):\n",
    "    print(year, population)\n",
    "    population = round(population/1.1)\n",
    "#Program - The current population of a town is 10000. The population of the town is increasing at the rate of 10% per year. You have to write a program to find out the population at the end of each of the last 10 years.\n",
    "    "
   ]
  },
  {
   "cell_type": "code",
   "execution_count": 20,
   "id": "cfcfc047-cdd9-4087-9ee8-0dfbd5c941fe",
   "metadata": {},
   "outputs": [],
   "source": [
    "#NESTED LOOPS "
   ]
  },
  {
   "cell_type": "code",
   "execution_count": 33,
   "id": "8417cee6-fc8c-4353-8429-e4a45463a653",
   "metadata": {},
   "outputs": [
    {
     "name": "stdin",
     "output_type": "stream",
     "text": [
      "Enter Row 4\n"
     ]
    },
    {
     "name": "stdout",
     "output_type": "stream",
     "text": [
      "*\n",
      "*\n",
      "*\n",
      "*\n"
     ]
    }
   ],
   "source": [
    "rows = int(input('Enter Row'))                 \n",
    "for n in range(rows,0,-1):\n",
    "    for i in range(1,0,-1):\n",
    "        print('*', end ='')\n",
    "    print()"
   ]
  },
  {
   "cell_type": "code",
   "execution_count": null,
   "id": "63b6692e-cb4d-4d28-a450-8cef5c74d850",
   "metadata": {},
   "outputs": [],
   "source": []
  }
 ],
 "metadata": {
  "kernelspec": {
   "display_name": "Python 3 (ipykernel)",
   "language": "python",
   "name": "python3"
  },
  "language_info": {
   "codemirror_mode": {
    "name": "ipython",
    "version": 3
   },
   "file_extension": ".py",
   "mimetype": "text/x-python",
   "name": "python",
   "nbconvert_exporter": "python",
   "pygments_lexer": "ipython3",
   "version": "3.12.4"
  }
 },
 "nbformat": 4,
 "nbformat_minor": 5
}
