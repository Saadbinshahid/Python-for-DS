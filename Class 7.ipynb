{
 "cells": [
  {
   "cell_type": "code",
   "execution_count": 1,
   "id": "82ac6d71-c693-4658-98cd-f395e85abfed",
   "metadata": {},
   "outputs": [],
   "source": [
    "#keys and values"
   ]
  },
  {
   "cell_type": "code",
   "execution_count": 2,
   "id": "3b7e33f4-205d-4e18-adcf-0fd37781ca8c",
   "metadata": {},
   "outputs": [
    {
     "ename": "NameError",
     "evalue": "name 'person' is not defined",
     "output_type": "error",
     "traceback": [
      "\u001b[1;31m---------------------------------------------------------------------------\u001b[0m",
      "\u001b[1;31mNameError\u001b[0m                                 Traceback (most recent call last)",
      "Cell \u001b[1;32mIn[2], line 1\u001b[0m\n\u001b[1;32m----> 1\u001b[0m person\u001b[38;5;241m.\u001b[39mitem()\n",
      "\u001b[1;31mNameError\u001b[0m: name 'person' is not defined"
     ]
    }
   ],
   "source": [
    "person.item()"
   ]
  },
  {
   "cell_type": "code",
   "execution_count": null,
   "id": "aae01971-34c1-4d24-a770-dbd64542b604",
   "metadata": {},
   "outputs": [],
   "source": []
  },
  {
   "cell_type": "code",
   "execution_count": 3,
   "id": "9ccb9ad4-6c8e-4de3-8cd9-859d31f62d39",
   "metadata": {},
   "outputs": [
    {
     "name": "stdout",
     "output_type": "stream",
     "text": [
      "{'Name': 'Saad', 'Age': 31, 'Gender': 'Male', 'Marks': {'python': 30, 'Java': 45, 'JS': 50}}\n",
      "<class 'dict'>\n"
     ]
    }
   ],
   "source": [
    "person1 = {'Name' : 'Saad',\n",
    "           'Age' : 31 ,\n",
    "           'Gender' : 'Male' ,\n",
    "           'Marks' : {'python' : 30 , 'Java' : 45 , 'JS' : 50}\n",
    "          }\n",
    "print(person1)\n",
    "print(type(person1))\n"
   ]
  },
  {
   "cell_type": "code",
   "execution_count": 4,
   "id": "50827d70-029f-456f-a246-36c8740f4fcd",
   "metadata": {},
   "outputs": [
    {
     "data": {
      "text/plain": [
       "30"
      ]
     },
     "execution_count": 4,
     "metadata": {},
     "output_type": "execute_result"
    }
   ],
   "source": [
    "person1.get('Marks')['python']"
   ]
  },
  {
   "cell_type": "code",
   "execution_count": 5,
   "id": "14cb4cc3-d974-469a-ba01-93c97cc5086d",
   "metadata": {},
   "outputs": [
    {
     "name": "stdout",
     "output_type": "stream",
     "text": [
      "4\n"
     ]
    }
   ],
   "source": [
    "print(len(person1))"
   ]
  },
  {
   "cell_type": "code",
   "execution_count": 6,
   "id": "a0c82f3a-de6e-49ec-8adc-ed41737203ae",
   "metadata": {},
   "outputs": [
    {
     "data": {
      "text/plain": [
       "'Male'"
      ]
     },
     "execution_count": 6,
     "metadata": {},
     "output_type": "execute_result"
    }
   ],
   "source": [
    "person1.get('Gender')"
   ]
  },
  {
   "cell_type": "code",
   "execution_count": 7,
   "id": "29478df5-e4d5-4695-9e9f-94a1e1958e9e",
   "metadata": {},
   "outputs": [
    {
     "data": {
      "text/plain": [
       "{'Name': 'Sajjid',\n",
       " 'Age': 31,\n",
       " 'Gender': 'Male',\n",
       " 'Marks': {'python': 20, 'Java': 45, 'JS': 50},\n",
       " 'Skills': ['python', 'java', 'pipedata']}"
      ]
     },
     "execution_count": 7,
     "metadata": {},
     "output_type": "execute_result"
    }
   ],
   "source": [
    "person = {'Name' : 'Sajjid',\n",
    "           'Age' : 31 ,\n",
    "           'Gender' : 'Male' ,\n",
    "           'Marks' : {'python' : 20 , 'Java' : 45 , 'JS' : 50},\n",
    "          'Skills' : ['python','java','pipedata']\n",
    "         }\n",
    "person"
   ]
  },
  {
   "cell_type": "code",
   "execution_count": 8,
   "id": "90ef4528-2e99-4620-9649-830492fe0fcb",
   "metadata": {},
   "outputs": [],
   "source": [
    "person.update(person1) #adding one dictionary to other dictionary"
   ]
  },
  {
   "cell_type": "code",
   "execution_count": 9,
   "id": "732bd103-c799-4155-b3f9-c28267750c91",
   "metadata": {},
   "outputs": [
    {
     "name": "stdout",
     "output_type": "stream",
     "text": [
      "{'Name': 'Saad', 'Age': 31, 'Gender': 'Male', 'Marks': {'python': 30, 'Java': 45, 'JS': 50}, 'Skills': ['python', 'java', 'pipedata']}\n"
     ]
    }
   ],
   "source": [
    "print(person)"
   ]
  },
  {
   "cell_type": "code",
   "execution_count": 10,
   "id": "7f65ab41-4520-4b22-8272-471a956c68f5",
   "metadata": {},
   "outputs": [
    {
     "name": "stdout",
     "output_type": "stream",
     "text": [
      "{'Name': 'Saad', 'Age': 31, 'Gender': 'Male', 'Marks': {'python': 30, 'Java': 45, 'JS': 50}, 'Skills': ['python', 'java', 'pipedata']}\n"
     ]
    }
   ],
   "source": [
    "person.get('Marks')\n",
    "print(person)"
   ]
  },
  {
   "cell_type": "code",
   "execution_count": 11,
   "id": "50bf3f34-15a6-410b-81a0-09d9d4101951",
   "metadata": {},
   "outputs": [
    {
     "name": "stdout",
     "output_type": "stream",
     "text": [
      "{'Name': 'Saad', 'Age': 31, 'Gender': 'Male', 'Marks': {'python': 30, 'Java': 45, 'JS': 50}, 'Skills': ['python', 'java', 'pipedata'], 'Organization': 'ENGRO'}\n"
     ]
    }
   ],
   "source": [
    "person['Organization'] = 'ENGRO'\n",
    "print(person)"
   ]
  },
  {
   "cell_type": "code",
   "execution_count": 12,
   "id": "8b862362-23f0-40f1-bc41-c4ce40b5630e",
   "metadata": {},
   "outputs": [
    {
     "data": {
      "text/plain": [
       "'Saad'"
      ]
     },
     "execution_count": 12,
     "metadata": {},
     "output_type": "execute_result"
    }
   ],
   "source": [
    "person.get('Name')\n"
   ]
  },
  {
   "cell_type": "code",
   "execution_count": 13,
   "id": "90ecdbe3-3d74-400d-9c8e-d15a79fe2ef5",
   "metadata": {},
   "outputs": [
    {
     "data": {
      "text/plain": [
       "{'python': 30, 'Java': 45, 'JS': 50}"
      ]
     },
     "execution_count": 13,
     "metadata": {},
     "output_type": "execute_result"
    }
   ],
   "source": [
    "person.get('Marks')"
   ]
  },
  {
   "cell_type": "code",
   "execution_count": 14,
   "id": "c7612a3f-3aba-45bb-baeb-60535eb59fc1",
   "metadata": {},
   "outputs": [],
   "source": [
    "person.update({'Roll' : 113 , 'Address' : 'Pakistan'})"
   ]
  },
  {
   "cell_type": "code",
   "execution_count": 15,
   "id": "62933063-003a-4ba5-9d1c-7d9d2662539c",
   "metadata": {},
   "outputs": [
    {
     "name": "stdout",
     "output_type": "stream",
     "text": [
      "{'Name': 'Saad', 'Age': 31, 'Gender': 'Male', 'Marks': {'python': 30, 'Java': 45, 'JS': 50}, 'Skills': ['python', 'java', 'pipedata'], 'Organization': 'ENGRO', 'Roll': 113, 'Address': 'Pakistan'}\n"
     ]
    }
   ],
   "source": [
    "print(person)"
   ]
  },
  {
   "cell_type": "code",
   "execution_count": 16,
   "id": "03abdee6-adcc-4f1f-a002-e7912ee2b8ca",
   "metadata": {},
   "outputs": [
    {
     "data": {
      "text/plain": [
       "['python', 'java', 'pipedata']"
      ]
     },
     "execution_count": 16,
     "metadata": {},
     "output_type": "execute_result"
    }
   ],
   "source": [
    "person.get('Skills')"
   ]
  },
  {
   "cell_type": "code",
   "execution_count": 17,
   "id": "edf7e0aa-4d9e-490e-a0a0-b3d8421f59dc",
   "metadata": {},
   "outputs": [
    {
     "data": {
      "text/plain": [
       "45"
      ]
     },
     "execution_count": 17,
     "metadata": {},
     "output_type": "execute_result"
    }
   ],
   "source": [
    "person.get('Marks')['Java']"
   ]
  },
  {
   "cell_type": "code",
   "execution_count": 18,
   "id": "87d70bce-693b-4b0a-b56f-348347b2a0ce",
   "metadata": {},
   "outputs": [
    {
     "data": {
      "text/plain": [
       "['Address', 'Age', 'Gender', 'Marks', 'Name', 'Organization', 'Roll', 'Skills']"
      ]
     },
     "execution_count": 18,
     "metadata": {},
     "output_type": "execute_result"
    }
   ],
   "source": [
    "sorted(person)"
   ]
  },
  {
   "cell_type": "raw",
   "id": "81cafcf9-d4c7-435b-9916-39d86cb8358f",
   "metadata": {},
   "source": [
    "print(person)"
   ]
  },
  {
   "cell_type": "code",
   "execution_count": 19,
   "id": "322b742f-895f-4590-bfd8-702c796af8be",
   "metadata": {},
   "outputs": [],
   "source": [
    "person.get('area')"
   ]
  },
  {
   "cell_type": "code",
   "execution_count": 20,
   "id": "de8bfe18-e1a2-4fc7-8aaa-76ddf0363678",
   "metadata": {},
   "outputs": [
    {
     "name": "stdout",
     "output_type": "stream",
     "text": [
      "{'Name': 'Saad', 'Age': 31, 'Gender': 'Male', 'Marks': {'python': 30, 'Java': 45, 'JS': 50}, 'Skills': ['python', 'java', 'pipedata'], 'Organization': 'ENGRO', 'Roll': 113, 'Address': 'Pakistan'}\n"
     ]
    }
   ],
   "source": [
    "print(person)"
   ]
  },
  {
   "cell_type": "code",
   "execution_count": 21,
   "id": "61a73ffb-f567-46be-b2ef-28651b4d6e64",
   "metadata": {},
   "outputs": [
    {
     "data": {
      "text/plain": [
       "['Skills', 'Roll', 'Organization', 'Name', 'Marks', 'Gender', 'Age', 'Address']"
      ]
     },
     "execution_count": 21,
     "metadata": {},
     "output_type": "execute_result"
    }
   ],
   "source": [
    "sorted(person, reverse = True)"
   ]
  },
  {
   "cell_type": "code",
   "execution_count": 22,
   "id": "6a94b17f-3f13-48de-ac16-f069d6eb4012",
   "metadata": {},
   "outputs": [
    {
     "data": {
      "text/plain": [
       "'Saad'"
      ]
     },
     "execution_count": 22,
     "metadata": {},
     "output_type": "execute_result"
    }
   ],
   "source": [
    "person.pop('Name') #key must be provided with the pop function"
   ]
  },
  {
   "cell_type": "code",
   "execution_count": 23,
   "id": "a064d76c-dcec-4bb1-b799-e41db43af70a",
   "metadata": {},
   "outputs": [
    {
     "name": "stdout",
     "output_type": "stream",
     "text": [
      "{'Age': 31, 'Gender': 'Male', 'Marks': {'python': 30, 'Java': 45, 'JS': 50}, 'Skills': ['python', 'java', 'pipedata'], 'Organization': 'ENGRO', 'Roll': 113, 'Address': 'Pakistan'}\n"
     ]
    }
   ],
   "source": [
    "print(person)"
   ]
  },
  {
   "cell_type": "code",
   "execution_count": 24,
   "id": "75368eab-9d17-40f5-bd5e-5c66ad74819b",
   "metadata": {},
   "outputs": [],
   "source": [
    "person.update({'Name' : 'Saaad'})"
   ]
  },
  {
   "cell_type": "code",
   "execution_count": 25,
   "id": "3a01efe0-cec5-42af-9641-ded969d41721",
   "metadata": {},
   "outputs": [
    {
     "name": "stdout",
     "output_type": "stream",
     "text": [
      "{'Age': 31, 'Gender': 'Male', 'Marks': {'python': 30, 'Java': 45, 'JS': 50}, 'Skills': ['python', 'java', 'pipedata'], 'Organization': 'ENGRO', 'Roll': 113, 'Address': 'Pakistan', 'Name': 'Saaad'}\n"
     ]
    }
   ],
   "source": [
    "print(person)"
   ]
  },
  {
   "cell_type": "code",
   "execution_count": 26,
   "id": "305e1669-76dd-4ec4-863e-8a67a448d997",
   "metadata": {},
   "outputs": [
    {
     "data": {
      "text/plain": [
       "{'N': None, 'a': None, 'm': None, 'e': None}"
      ]
     },
     "execution_count": 26,
     "metadata": {},
     "output_type": "execute_result"
    }
   ],
   "source": [
    "person.fromkeys('Name')"
   ]
  },
  {
   "cell_type": "code",
   "execution_count": 27,
   "id": "4663fdae-72ac-4404-823c-538e9de9a28e",
   "metadata": {},
   "outputs": [
    {
     "data": {
      "text/plain": [
       "('Name', 'Saaad')"
      ]
     },
     "execution_count": 27,
     "metadata": {},
     "output_type": "execute_result"
    }
   ],
   "source": [
    "person.popitem()"
   ]
  },
  {
   "cell_type": "code",
   "execution_count": 28,
   "id": "ae2da46f-d8b6-4b7b-843b-72b7e90fd867",
   "metadata": {},
   "outputs": [
    {
     "data": {
      "text/plain": [
       "{'N': 'Saad', 'a': 'Saad', 'm': 'Saad', 'e': 'Saad'}"
      ]
     },
     "execution_count": 28,
     "metadata": {},
     "output_type": "execute_result"
    }
   ],
   "source": [
    "person.fromkeys('Name' , 'Saad')"
   ]
  },
  {
   "cell_type": "code",
   "execution_count": 29,
   "id": "d282dc60-f338-409a-a66f-1e0d98170806",
   "metadata": {},
   "outputs": [],
   "source": [
    "person.update({'profession' : 'Maintenance & Projects'})"
   ]
  },
  {
   "cell_type": "code",
   "execution_count": 30,
   "id": "2ae0a40c-95f1-4c47-ad7a-c7e8812b0f6e",
   "metadata": {},
   "outputs": [
    {
     "name": "stdout",
     "output_type": "stream",
     "text": [
      "{'Age': 31, 'Gender': 'Male', 'Marks': {'python': 30, 'Java': 45, 'JS': 50}, 'Skills': ['python', 'java', 'pipedata'], 'Organization': 'ENGRO', 'Roll': 113, 'Address': 'Pakistan', 'profession': 'Maintenance & Projects'}\n"
     ]
    }
   ],
   "source": [
    "print(person)"
   ]
  },
  {
   "cell_type": "code",
   "execution_count": 32,
   "id": "25372b46-4306-4730-a5ae-078f8994a06b",
   "metadata": {},
   "outputs": [
    {
     "name": "stdout",
     "output_type": "stream",
     "text": [
      "{'Age': 31, 'Gender': 'Male', 'Marks': {'python': 30, 'Java': 45, 'JS': 50}, 'Skills': ['python', 'java', 'pipedata'], 'Organization': 'ENGRO', 'Roll': 113, 'Address': 'Pakistan', 'profession': 'Maintenance & Projects'}\n"
     ]
    }
   ],
   "source": [
    "print(person)"
   ]
  },
  {
   "cell_type": "code",
   "execution_count": null,
   "id": "8faefab6-8f64-46cb-9491-384808fa6639",
   "metadata": {},
   "outputs": [],
   "source": []
  },
  {
   "cell_type": "code",
   "execution_count": 33,
   "id": "30c7d3b1-449f-4933-9a44-aa416391d784",
   "metadata": {},
   "outputs": [
    {
     "name": "stdout",
     "output_type": "stream",
     "text": [
      "{'Age': 31, 'Gender': 'Male', 'Marks': {'python': 30, 'Java': 45, 'JS': 50}, 'Skills': ['python', 'java', 'pipedata'], 'Organization': 'ENGRO', 'Roll': 113, 'Address': 'Pakistan', 'profession': 'Maintenance & Projects'}\n"
     ]
    }
   ],
   "source": [
    "print(person)"
   ]
  },
  {
   "cell_type": "code",
   "execution_count": 37,
   "id": "bfedfeaa-3eeb-46db-a551-6d73a28db200",
   "metadata": {},
   "outputs": [
    {
     "name": "stdout",
     "output_type": "stream",
     "text": [
      "Amjad\n",
      "{'Age': 31, 'Gender': 'Male', 'Marks': {'python': 30, 'Java': 45, 'JS': 50}, 'Skills': ['python', 'java', 'pipedata'], 'Organization': 'ENGRO', 'Roll': 113, 'Address': 'Pakistan', 'profession': 'Maintenance & Projects', 'name': 'Amjad'}\n"
     ]
    }
   ],
   "source": [
    "a = person.setdefault('name', 'Amjad')\n",
    "print(a)\n",
    "print(person)"
   ]
  },
  {
   "cell_type": "code",
   "execution_count": 41,
   "id": "e0a7b4f5-fb0e-48a2-b3c0-03fd119c6cba",
   "metadata": {},
   "outputs": [
    {
     "name": "stdout",
     "output_type": "stream",
     "text": [
      "{'brand': 'Ford', 'model': 'Mustang', 'year': 1964}\n"
     ]
    }
   ],
   "source": [
    "car = {\n",
    "  \"brand\": \"Ford\",\n",
    "  \"model\": \"Mustang\",\n",
    "  \"year\": 1964\n",
    "}\n",
    "print(car)"
   ]
  },
  {
   "cell_type": "code",
   "execution_count": 42,
   "id": "18a711ef-41bd-43e9-b19b-85802d24888a",
   "metadata": {},
   "outputs": [
    {
     "name": "stdout",
     "output_type": "stream",
     "text": [
      "Mustang\n"
     ]
    }
   ],
   "source": [
    "\n",
    "x = car.setdefault(\"model\", \"Bronco\")\n",
    "\n",
    "print(x)"
   ]
  },
  {
   "cell_type": "code",
   "execution_count": 43,
   "id": "3b05dadf-c328-41e6-9827-6aea09c3d5c4",
   "metadata": {},
   "outputs": [
    {
     "name": "stdout",
     "output_type": "stream",
     "text": [
      "{'brand': 'Ford', 'model': 'Mustang', 'year': 1964}\n"
     ]
    }
   ],
   "source": [
    "print(car)"
   ]
  },
  {
   "cell_type": "code",
   "execution_count": 45,
   "id": "767bd844-c827-4a01-89e7-7419d2f917a5",
   "metadata": {},
   "outputs": [
    {
     "name": "stdout",
     "output_type": "stream",
     "text": [
      "['__doc__', '__loader__', '__name__', '__package__', '__spec__', 'acos', 'acosh', 'asin', 'asinh', 'atan', 'atan2', 'atanh', 'cbrt', 'ceil', 'comb', 'copysign', 'cos', 'cosh', 'degrees', 'dist', 'e', 'erf', 'erfc', 'exp', 'exp2', 'expm1', 'fabs', 'factorial', 'floor', 'fmod', 'frexp', 'fsum', 'gamma', 'gcd', 'hypot', 'inf', 'isclose', 'isfinite', 'isinf', 'isnan', 'isqrt', 'lcm', 'ldexp', 'lgamma', 'log', 'log10', 'log1p', 'log2', 'modf', 'nan', 'nextafter', 'perm', 'pi', 'pow', 'prod', 'radians', 'remainder', 'sin', 'sinh', 'sqrt', 'sumprod', 'tan', 'tanh', 'tau', 'trunc', 'ulp']\n"
     ]
    }
   ],
   "source": [
    "import math\n",
    "print(dir(math))"
   ]
  },
  {
   "cell_type": "code",
   "execution_count": 47,
   "id": "bb9e3aa3-0891-4cb2-80e8-36c6ab6135b3",
   "metadata": {},
   "outputs": [
    {
     "data": {
      "text/plain": [
       "3"
      ]
     },
     "execution_count": 47,
     "metadata": {},
     "output_type": "execute_result"
    }
   ],
   "source": [
    "math.floor(3.5)\n"
   ]
  },
  {
   "cell_type": "code",
   "execution_count": null,
   "id": "4cf0d7e3-bd35-4b1b-9132-b4c10644d963",
   "metadata": {},
   "outputs": [],
   "source": []
  },
  {
   "cell_type": "markdown",
   "id": "566b56d2-f3b8-409c-8f13-77983fe23a55",
   "metadata": {},
   "source": [
    "math.ceil(3.5)"
   ]
  },
  {
   "cell_type": "code",
   "execution_count": 50,
   "id": "f1226eef-0d66-45a6-9b96-141187c1d3d6",
   "metadata": {},
   "outputs": [
    {
     "data": {
      "text/plain": [
       "4.0"
      ]
     },
     "execution_count": 50,
     "metadata": {},
     "output_type": "execute_result"
    }
   ],
   "source": [
    "math.sqrt(16)"
   ]
  },
  {
   "cell_type": "code",
   "execution_count": 51,
   "id": "b931112a-369b-460f-8fe5-0339df1dd20e",
   "metadata": {},
   "outputs": [
    {
     "data": {
      "text/plain": [
       "0.8939966636005579"
      ]
     },
     "execution_count": 51,
     "metadata": {},
     "output_type": "execute_result"
    }
   ],
   "source": [
    "math.sin(90)"
   ]
  },
  {
   "cell_type": "code",
   "execution_count": 56,
   "id": "4a1568d0-ba13-4064-bd65-5e0ced15cdea",
   "metadata": {},
   "outputs": [
    {
     "name": "stdout",
     "output_type": "stream",
     "text": [
      "['__all__', '__builtins__', '__cached__', '__doc__', '__file__', '__loader__', '__name__', '__package__', '__spec__', 'iskeyword', 'issoftkeyword', 'kwlist', 'softkwlist']\n"
     ]
    }
   ],
   "source": [
    "import keyword\n",
    "print(dir(keyword))"
   ]
  },
  {
   "cell_type": "code",
   "execution_count": 57,
   "id": "2938ed16-983f-43b3-b467-00509e520e9f",
   "metadata": {},
   "outputs": [
    {
     "name": "stdout",
     "output_type": "stream",
     "text": [
      "['BPF', 'LOG4', 'NV_MAGICCONST', 'RECIP_BPF', 'Random', 'SG_MAGICCONST', 'SystemRandom', 'TWOPI', '_ONE', '_Sequence', '__all__', '__builtins__', '__cached__', '__doc__', '__file__', '__loader__', '__name__', '__package__', '__spec__', '_accumulate', '_acos', '_bisect', '_ceil', '_cos', '_e', '_exp', '_fabs', '_floor', '_index', '_inst', '_isfinite', '_lgamma', '_log', '_log2', '_os', '_pi', '_random', '_repeat', '_sha512', '_sin', '_sqrt', '_test', '_test_generator', '_urandom', '_warn', 'betavariate', 'binomialvariate', 'choice', 'choices', 'expovariate', 'gammavariate', 'gauss', 'getrandbits', 'getstate', 'lognormvariate', 'normalvariate', 'paretovariate', 'randbytes', 'randint', 'random', 'randrange', 'sample', 'seed', 'setstate', 'shuffle', 'triangular', 'uniform', 'vonmisesvariate', 'weibullvariate']\n"
     ]
    }
   ],
   "source": [
    "import random\n",
    "print(dir(random))"
   ]
  },
  {
   "cell_type": "code",
   "execution_count": 59,
   "id": "47d30444-a902-447d-b53c-0c1e0a2fc716",
   "metadata": {},
   "outputs": [
    {
     "data": {
      "text/plain": [
       "8"
      ]
     },
     "execution_count": 59,
     "metadata": {},
     "output_type": "execute_result"
    }
   ],
   "source": [
    "random.randint(1,100) #(startbpund, endbound)"
   ]
  },
  {
   "cell_type": "code",
   "execution_count": 63,
   "id": "8403a2a1-9c4f-44af-936c-64fb823f119a",
   "metadata": {},
   "outputs": [
    {
     "name": "stdout",
     "output_type": "stream",
     "text": [
      "['apple', 'banana', 30, 43] ('saad', 'sameed', 'sajjid') {'engro', 'gsk', 'midas'} {'name': 'saad', 'gender': 'male', 'age': 26, 'skills': {'python', 'java'}}\n"
     ]
    }
   ],
   "source": [
    "a = ['apple','banana', 30 , 43]\n",
    "c = ('saad' , 'sameed' , 'sajjid')\n",
    "v = {'engro' , 'gsk' , 'midas'}\n",
    "b = {'name' : 'saad',\n",
    "     'gender' : 'male',\n",
    "     'age' : 26,\n",
    "     'skills' : {'python', 'java'}}\n",
    "print(a,c,v,b)"
   ]
  },
  {
   "cell_type": "code",
   "execution_count": 68,
   "id": "cd0d41e0-cad6-4838-8313-e3e1b8b3c134",
   "metadata": {},
   "outputs": [
    {
     "name": "stdout",
     "output_type": "stream",
     "text": [
      "<class 'list'>\n",
      "4\n"
     ]
    }
   ],
   "source": [
    "print(type(a))\n",
    "print(len(b))"
   ]
  },
  {
   "cell_type": "code",
   "execution_count": null,
   "id": "c1414b32-27ab-45b3-a006-05d9b8d20073",
   "metadata": {},
   "outputs": [],
   "source": []
  }
 ],
 "metadata": {
  "kernelspec": {
   "display_name": "Python 3 (ipykernel)",
   "language": "python",
   "name": "python3"
  },
  "language_info": {
   "codemirror_mode": {
    "name": "ipython",
    "version": 3
   },
   "file_extension": ".py",
   "mimetype": "text/x-python",
   "name": "python",
   "nbconvert_exporter": "python",
   "pygments_lexer": "ipython3",
   "version": "3.12.4"
  }
 },
 "nbformat": 4,
 "nbformat_minor": 5
}
