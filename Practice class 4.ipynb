{
 "cells": [
  {
   "cell_type": "markdown",
   "id": "67be4068-0633-48ee-9c03-35b8a82e0621",
   "metadata": {},
   "source": [
    "#types of operators\n",
    "#types of data\n",
    "#indexing \n",
    "practice. "
   ]
  },
  {
   "cell_type": "code",
   "execution_count": 5,
   "id": "8312f94c-c239-4a52-a705-50effafa0b0e",
   "metadata": {},
   "outputs": [
    {
     "name": "stdout",
     "output_type": "stream",
     "text": [
      "<class 'list'>\n",
      "4\n",
      "['apple', 'mango', 'banana', 'melon', 'kiwi']\n",
      "['apple', 'mango', 'methay', 'banana', 'melon', 'kiwi']\n",
      "banana\n",
      "['apple', 'methay']\n",
      "kiwi\n",
      "['apple', 'mango', 'methay', 'banana', 'melon']\n",
      "['apple', 'mango', 'banana', 'melon']\n",
      "4\n",
      "['apple', 'mango', 'banana', 'melon', ['grapes', 'false', 'pine']]\n",
      "false\n",
      "5\n"
     ]
    }
   ],
   "source": [
    "fruits = ['apple', 'mango', 'banana', 'melon']\n",
    "print(type(fruits))\n",
    "print(len(fruits))\n",
    "fruits.append('kiwi')\n",
    "print(fruits)\n",
    "fruits.insert(2,'methay')\n",
    "print(fruits)\n",
    "print(fruits[3])\n",
    "print(fruits[0:4:2])\n",
    "print(fruits[-1])\n",
    "fruits.pop()\n",
    "print(fruits)\n",
    "fruits.remove('methay')\n",
    "print(fruits)\n",
    "print(len(fruits))\n",
    "fruits_summers = ['grapes','false', 'pine']\n",
    "fruits.append(fruits_summers)\n",
    "print(fruits)\n",
    "print(fruits[4][1])\n",
    "print(len(fruits))"
   ]
  },
  {
   "cell_type": "code",
   "execution_count": null,
   "id": "a3240307-8b71-4913-8cab-1445bcc5a10b",
   "metadata": {},
   "outputs": [],
   "source": []
  }
 ],
 "metadata": {
  "kernelspec": {
   "display_name": "Python 3 (ipykernel)",
   "language": "python",
   "name": "python3"
  },
  "language_info": {
   "codemirror_mode": {
    "name": "ipython",
    "version": 3
   },
   "file_extension": ".py",
   "mimetype": "text/x-python",
   "name": "python",
   "nbconvert_exporter": "python",
   "pygments_lexer": "ipython3",
   "version": "3.12.4"
  }
 },
 "nbformat": 4,
 "nbformat_minor": 5
}
