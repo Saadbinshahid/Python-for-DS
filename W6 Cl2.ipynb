{
 "cells": [
  {
   "cell_type": "code",
   "execution_count": 19,
   "id": "3baaf556-a68d-4850-a65c-0b3ecf02047e",
   "metadata": {},
   "outputs": [
    {
     "name": "stdout",
     "output_type": "stream",
     "text": [
      "[2, 4, 6, 7]\n"
     ]
    },
    {
     "data": {
      "text/plain": [
       "[4, 16, 36, 49]"
      ]
     },
     "execution_count": 19,
     "metadata": {},
     "output_type": "execute_result"
    }
   ],
   "source": [
    "def list_square(num_list):\n",
    "    temp_list=[]\n",
    "    for num in num_list:\n",
    "        temp_list.append(num**2)\n",
    "    return temp_list\n",
    "num_list = [2,4,6,7]\n",
    "print (num_list)\n",
    "list_square(num_list)"
   ]
  },
  {
   "cell_type": "code",
   "execution_count": 27,
   "id": "50fc5f9c-a9bd-4b49-9715-339a9c126aac",
   "metadata": {},
   "outputs": [
    {
     "name": "stdout",
     "output_type": "stream",
     "text": [
      "[2, 3, 4, 5]\n"
     ]
    },
    {
     "data": {
      "text/plain": [
       "14"
      ]
     },
     "execution_count": 27,
     "metadata": {},
     "output_type": "execute_result"
    }
   ],
   "source": [
    "def sum_list(num_list):\n",
    "    sum = 0\n",
    "    for i in num_list:\n",
    "        sum = sum+i\n",
    "    return sum \n",
    "num_list = [2,3,4,5]\n",
    "print(num_list)\n",
    "sum_list(num_list)\n",
    "    "
   ]
  },
  {
   "cell_type": "code",
   "execution_count": 28,
   "id": "24943b84-5d2d-4246-8ce1-9804aeceb0fd",
   "metadata": {},
   "outputs": [
    {
     "name": "stdout",
     "output_type": "stream",
     "text": [
      "(1, 2, 3, 4)\n",
      "24\n"
     ]
    }
   ],
   "source": [
    "def prod_func(num_tuple):\n",
    "    prod=1\n",
    "    for num in num_tuple:\n",
    "        prod*=num\n",
    "    return prod\n",
    "num_tuple=(1,2,3,4)\n",
    "print(num_tuple)\n",
    "print(prod_func(num_tuple))"
   ]
  },
  {
   "cell_type": "code",
   "execution_count": 37,
   "id": "cb9c8842-3c9d-4e37-9667-6d9a4148d285",
   "metadata": {},
   "outputs": [
    {
     "name": "stdin",
     "output_type": "stream",
     "text": [
      "Enter the number 7\n"
     ]
    },
    {
     "name": "stdout",
     "output_type": "stream",
     "text": [
      "Enter the valid even number 7\n"
     ]
    }
   ],
   "source": [
    "def even_num(num):\n",
    "    if num%2==0:\n",
    "        print('The number is even', num)\n",
    "    else:\n",
    "        print('Enter the valid even number', num)\n",
    "num = int(input('Enter the number'))\n",
    "even_num(num)\n",
    "    "
   ]
  },
  {
   "cell_type": "code",
   "execution_count": 42,
   "id": "33259d6d-79fc-47d6-9088-f8bbc858d0dc",
   "metadata": {},
   "outputs": [
    {
     "name": "stdin",
     "output_type": "stream",
     "text": [
      "Enter the number 5\n"
     ]
    },
    {
     "name": "stdout",
     "output_type": "stream",
     "text": [
      "Enter the valid even number 5\n"
     ]
    }
   ],
   "source": [
    "def even_num(num):\n",
    "    if type(num) == int:\n",
    "        if num%2==0:\n",
    "            print('The number is even', num)\n",
    "        else:\n",
    "           print('Enter the valid even number', num)\n",
    "    else:\n",
    "       print('Enter valid integar')\n",
    "num = int(input('Enter the number'))\n",
    "even_num(num)"
   ]
  },
  {
   "cell_type": "code",
   "execution_count": 44,
   "id": "c3cada56-a45d-4db0-a1de-729120139fd1",
   "metadata": {},
   "outputs": [
    {
     "name": "stdout",
     "output_type": "stream",
     "text": [
      "Number 1 is odd\n",
      "Number 2 is even\n",
      "Number 3 is odd\n",
      "Number 4 is even\n",
      "Number 5 is odd\n",
      "Number 6 is even\n",
      "Number 7 is odd\n",
      "Number 8 is even\n",
      "Number 9 is odd\n",
      "Number 10 is even\n",
      "Number 11 is odd\n",
      "Number 12 is even\n",
      "Number 13 is odd\n",
      "Number 14 is even\n",
      "Number 15 is odd\n",
      "Number 16 is even\n",
      "Number 17 is odd\n",
      "Number 18 is even\n",
      "Number 19 is odd\n",
      "Number 20 is even\n"
     ]
    }
   ],
   "source": [
    "def num_system():\n",
    "    for i in range(1,21):\n",
    "        if i%2==0:\n",
    "            print('Number', i , 'is even')\n",
    "        else:\n",
    "            print('Number' , i , 'is odd')\n",
    "num_system()\n",
    "        "
   ]
  },
  {
   "cell_type": "code",
   "execution_count": 46,
   "id": "b485012d-8408-4f4e-a6f2-b059f0363b63",
   "metadata": {},
   "outputs": [],
   "source": [
    "#typesof argument \n",
    "# 1- Default arguments\n",
    "# 2 -Postisonal arguments\n",
    "# 3 - Keywords arguments\n",
    "# *args & *keywargs "
   ]
  },
  {
   "cell_type": "code",
   "execution_count": 47,
   "id": "d09b585e-b7a6-488f-8c46-1f80b30319f2",
   "metadata": {},
   "outputs": [],
   "source": [
    "def products(*args):\n",
    "    product = 1\n",
    "    for i in args:\n",
    "        product = product *i\n",
    "    print(args)\n",
    "    \n",
    "        "
   ]
  },
  {
   "cell_type": "code",
   "execution_count": 51,
   "id": "56c3a870-6043-4e68-b387-2a4bc1e8082b",
   "metadata": {},
   "outputs": [
    {
     "name": "stdin",
     "output_type": "stream",
     "text": [
      "Enter your name s\n",
      "Enter your age 1\n",
      "Enter your professrion a\n"
     ]
    },
    {
     "name": "stdout",
     "output_type": "stream",
     "text": [
      "('s', 1, 'a')\n"
     ]
    }
   ],
   "source": [
    "def user_details(*args):\n",
    "    print(args)\n",
    "name = input('Enter your name')\n",
    "age = int(input('Enter your age'))\n",
    "profession = input('Enter your professrion')\n",
    "user_details(name,age,profession)\n",
    "                   \n",
    "                       \n",
    "    "
   ]
  },
  {
   "cell_type": "code",
   "execution_count": 58,
   "id": "a4a8990e-3a52-4160-b6b6-2c3ca6c7b559",
   "metadata": {},
   "outputs": [
    {
     "name": "stdin",
     "output_type": "stream",
     "text": [
      "Enter your name saad\n",
      "Enter your age 26\n",
      "Enter your professrion s\n"
     ]
    },
    {
     "name": "stdout",
     "output_type": "stream",
     "text": [
      "name saad\n",
      "age 26\n",
      "profession s\n"
     ]
    }
   ],
   "source": [
    "def user_details(**kwargs):\n",
    "    for key, value in kwargs.items():\n",
    "        print(key,value)\n",
    "name = input('Enter your name')\n",
    "age = int(input('Enter your age'))\n",
    "profession = input('Enter your professrion')\n",
    "user_details(name=name,age=age,profession=profession)\n",
    "                   "
   ]
  },
  {
   "cell_type": "code",
   "execution_count": null,
   "id": "62527f99-21ff-47dc-b1d1-e148ab7903a5",
   "metadata": {},
   "outputs": [],
   "source": []
  }
 ],
 "metadata": {
  "kernelspec": {
   "display_name": "Python 3 (ipykernel)",
   "language": "python",
   "name": "python3"
  },
  "language_info": {
   "codemirror_mode": {
    "name": "ipython",
    "version": 3
   },
   "file_extension": ".py",
   "mimetype": "text/x-python",
   "name": "python",
   "nbconvert_exporter": "python",
   "pygments_lexer": "ipython3",
   "version": "3.12.4"
  }
 },
 "nbformat": 4,
 "nbformat_minor": 5
}
